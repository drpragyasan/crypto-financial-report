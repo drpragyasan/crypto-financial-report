{
 "cells": [
  {
   "cell_type": "markdown",
   "id": "ddd8d38c",
   "metadata": {},
   "source": [
    "# Financial Report\n",
    "\n",
    "## Objective\n",
    "\n",
    "Generate an HTML financial report using existing python libraries available. The report should have the historical performance of the different symbols included in the data set. Additionally, a liquidity analysis should be done for the top10 biggest coins by market capitalization based on the list from https://coinmarketcap.com/.\n",
    "    \n",
    "## Data provided\n",
    "\n",
    "Candle data and volume by market. (market is the combination of symbol and exchange where is traded, e.g. btc-usd-coinbase)     \n",
    "\n",
    "\n",
    "## Libraries used\n",
    "   #### pandas\n",
    "   #### numpy\n",
    "   #### matplotlib\n",
    "   #### jinja2\n",
    "   #### keras LSTM\n",
    "   #### sklearn"
   ]
  },
  {
   "cell_type": "code",
   "execution_count": 1,
   "id": "fed846ae",
   "metadata": {},
   "outputs": [],
   "source": [
    "import pandas as pd\n",
    "import matplotlib.pyplot as plt\n",
    "import numpy as np\n",
    "import matplotlib.pyplot as plt"
   ]
  },
  {
   "cell_type": "code",
   "execution_count": 2,
   "id": "78356833",
   "metadata": {},
   "outputs": [],
   "source": [
    "data = pd.read_csv(\"Vinter coin data.csv\")"
   ]
  },
  {
   "cell_type": "code",
   "execution_count": 3,
   "id": "45412c0f",
   "metadata": {},
   "outputs": [
    {
     "data": {
      "text/html": [
       "<div>\n",
       "<style scoped>\n",
       "    .dataframe tbody tr th:only-of-type {\n",
       "        vertical-align: middle;\n",
       "    }\n",
       "\n",
       "    .dataframe tbody tr th {\n",
       "        vertical-align: top;\n",
       "    }\n",
       "\n",
       "    .dataframe thead th {\n",
       "        text-align: right;\n",
       "    }\n",
       "</style>\n",
       "<table border=\"1\" class=\"dataframe\">\n",
       "  <thead>\n",
       "    <tr style=\"text-align: right;\">\n",
       "      <th></th>\n",
       "      <th>id</th>\n",
       "      <th>created_at</th>\n",
       "      <th>open</th>\n",
       "      <th>high</th>\n",
       "      <th>low</th>\n",
       "      <th>price</th>\n",
       "      <th>volume</th>\n",
       "      <th>amount</th>\n",
       "      <th>symbol</th>\n",
       "      <th>exchange</th>\n",
       "      <th>timestamp</th>\n",
       "      <th>date</th>\n",
       "    </tr>\n",
       "  </thead>\n",
       "  <tbody>\n",
       "    <tr>\n",
       "      <th>0</th>\n",
       "      <td>722202</td>\n",
       "      <td>2021-09-12 07:48:47</td>\n",
       "      <td>0.0000</td>\n",
       "      <td>0.0000</td>\n",
       "      <td>0.0000</td>\n",
       "      <td>0.000</td>\n",
       "      <td>0.00</td>\n",
       "      <td>NaN</td>\n",
       "      <td>alpha-usdt</td>\n",
       "      <td>okex</td>\n",
       "      <td>1544400000000</td>\n",
       "      <td>2018-12-10</td>\n",
       "    </tr>\n",
       "    <tr>\n",
       "      <th>1</th>\n",
       "      <td>737217</td>\n",
       "      <td>2021-09-12 07:52:12</td>\n",
       "      <td>0.0365</td>\n",
       "      <td>0.0371</td>\n",
       "      <td>0.0349</td>\n",
       "      <td>0.036</td>\n",
       "      <td>44107.49</td>\n",
       "      <td>1225208.056</td>\n",
       "      <td>lrc-usdt</td>\n",
       "      <td>okex</td>\n",
       "      <td>1544400000000</td>\n",
       "      <td>2018-12-10</td>\n",
       "    </tr>\n",
       "    <tr>\n",
       "      <th>2</th>\n",
       "      <td>729209</td>\n",
       "      <td>2021-09-12 07:51:11</td>\n",
       "      <td>0.0000</td>\n",
       "      <td>0.0000</td>\n",
       "      <td>0.0000</td>\n",
       "      <td>0.000</td>\n",
       "      <td>0.00</td>\n",
       "      <td>NaN</td>\n",
       "      <td>lrc-usd</td>\n",
       "      <td>kraken</td>\n",
       "      <td>1544400000000</td>\n",
       "      <td>2018-12-10</td>\n",
       "    </tr>\n",
       "    <tr>\n",
       "      <th>3</th>\n",
       "      <td>725205</td>\n",
       "      <td>2021-09-12 07:49:25</td>\n",
       "      <td>0.0000</td>\n",
       "      <td>0.0000</td>\n",
       "      <td>0.0000</td>\n",
       "      <td>0.000</td>\n",
       "      <td>0.00</td>\n",
       "      <td>NaN</td>\n",
       "      <td>gno-usdt</td>\n",
       "      <td>binance</td>\n",
       "      <td>1544400000000</td>\n",
       "      <td>2018-12-10</td>\n",
       "    </tr>\n",
       "    <tr>\n",
       "      <th>4</th>\n",
       "      <td>718198</td>\n",
       "      <td>2021-09-12 07:47:40</td>\n",
       "      <td>0.0000</td>\n",
       "      <td>0.0000</td>\n",
       "      <td>0.0000</td>\n",
       "      <td>0.000</td>\n",
       "      <td>0.00</td>\n",
       "      <td>NaN</td>\n",
       "      <td>xvs-usdt</td>\n",
       "      <td>poloniex</td>\n",
       "      <td>1544400000000</td>\n",
       "      <td>2018-12-10</td>\n",
       "    </tr>\n",
       "  </tbody>\n",
       "</table>\n",
       "</div>"
      ],
      "text/plain": [
       "       id           created_at    open    high     low  price    volume  \\\n",
       "0  722202  2021-09-12 07:48:47  0.0000  0.0000  0.0000  0.000      0.00   \n",
       "1  737217  2021-09-12 07:52:12  0.0365  0.0371  0.0349  0.036  44107.49   \n",
       "2  729209  2021-09-12 07:51:11  0.0000  0.0000  0.0000  0.000      0.00   \n",
       "3  725205  2021-09-12 07:49:25  0.0000  0.0000  0.0000  0.000      0.00   \n",
       "4  718198  2021-09-12 07:47:40  0.0000  0.0000  0.0000  0.000      0.00   \n",
       "\n",
       "        amount      symbol  exchange      timestamp        date  \n",
       "0          NaN  alpha-usdt      okex  1544400000000  2018-12-10  \n",
       "1  1225208.056    lrc-usdt      okex  1544400000000  2018-12-10  \n",
       "2          NaN     lrc-usd    kraken  1544400000000  2018-12-10  \n",
       "3          NaN    gno-usdt   binance  1544400000000  2018-12-10  \n",
       "4          NaN    xvs-usdt  poloniex  1544400000000  2018-12-10  "
      ]
     },
     "execution_count": 3,
     "metadata": {},
     "output_type": "execute_result"
    }
   ],
   "source": [
    "data.head()"
   ]
  },
  {
   "cell_type": "markdown",
   "id": "8edf8629",
   "metadata": {},
   "source": [
    "### Data transformation\n",
    "\n",
    "#### Changing date format correctly"
   ]
  },
  {
   "cell_type": "code",
   "execution_count": 4,
   "id": "071eee0d",
   "metadata": {},
   "outputs": [],
   "source": [
    "data['created_at'] = pd.to_datetime(data['created_at'])\n",
    "data['date'] = pd.to_datetime(data['date'])"
   ]
  },
  {
   "cell_type": "code",
   "execution_count": 5,
   "id": "e0ab1a2e",
   "metadata": {},
   "outputs": [
    {
     "data": {
      "text/plain": [
       "id                     int64\n",
       "created_at    datetime64[ns]\n",
       "open                 float64\n",
       "high                 float64\n",
       "low                  float64\n",
       "price                float64\n",
       "volume               float64\n",
       "amount               float64\n",
       "symbol                object\n",
       "exchange              object\n",
       "timestamp              int64\n",
       "date          datetime64[ns]\n",
       "dtype: object"
      ]
     },
     "execution_count": 5,
     "metadata": {},
     "output_type": "execute_result"
    }
   ],
   "source": [
    "data.dtypes"
   ]
  },
  {
   "cell_type": "code",
   "execution_count": 6,
   "id": "b6979b32",
   "metadata": {
    "scrolled": true
   },
   "outputs": [
    {
     "data": {
      "text/html": [
       "<div>\n",
       "<style scoped>\n",
       "    .dataframe tbody tr th:only-of-type {\n",
       "        vertical-align: middle;\n",
       "    }\n",
       "\n",
       "    .dataframe tbody tr th {\n",
       "        vertical-align: top;\n",
       "    }\n",
       "\n",
       "    .dataframe thead th {\n",
       "        text-align: right;\n",
       "    }\n",
       "</style>\n",
       "<table border=\"1\" class=\"dataframe\">\n",
       "  <thead>\n",
       "    <tr style=\"text-align: right;\">\n",
       "      <th></th>\n",
       "      <th>id</th>\n",
       "      <th>open</th>\n",
       "      <th>high</th>\n",
       "      <th>low</th>\n",
       "      <th>price</th>\n",
       "      <th>volume</th>\n",
       "      <th>amount</th>\n",
       "      <th>timestamp</th>\n",
       "    </tr>\n",
       "  </thead>\n",
       "  <tbody>\n",
       "    <tr>\n",
       "      <th>count</th>\n",
       "      <td>837641.000000</td>\n",
       "      <td>8.376410e+05</td>\n",
       "      <td>8.376410e+05</td>\n",
       "      <td>8.376410e+05</td>\n",
       "      <td>8.376410e+05</td>\n",
       "      <td>8.376390e+05</td>\n",
       "      <td>4.289390e+05</td>\n",
       "      <td>8.376410e+05</td>\n",
       "    </tr>\n",
       "    <tr>\n",
       "      <th>mean</th>\n",
       "      <td>437840.000000</td>\n",
       "      <td>6.624918e+03</td>\n",
       "      <td>1.783694e+04</td>\n",
       "      <td>6.593647e+03</td>\n",
       "      <td>6.625984e+03</td>\n",
       "      <td>1.136804e+07</td>\n",
       "      <td>8.455479e+07</td>\n",
       "      <td>1.587902e+12</td>\n",
       "    </tr>\n",
       "    <tr>\n",
       "      <th>std</th>\n",
       "      <td>241806.272754</td>\n",
       "      <td>1.633558e+05</td>\n",
       "      <td>9.410764e+06</td>\n",
       "      <td>1.633494e+05</td>\n",
       "      <td>1.633547e+05</td>\n",
       "      <td>1.146863e+08</td>\n",
       "      <td>1.859976e+09</td>\n",
       "      <td>2.514086e+10</td>\n",
       "    </tr>\n",
       "    <tr>\n",
       "      <th>min</th>\n",
       "      <td>19020.000000</td>\n",
       "      <td>0.000000e+00</td>\n",
       "      <td>0.000000e+00</td>\n",
       "      <td>0.000000e+00</td>\n",
       "      <td>0.000000e+00</td>\n",
       "      <td>0.000000e+00</td>\n",
       "      <td>0.000000e+00</td>\n",
       "      <td>1.544400e+12</td>\n",
       "    </tr>\n",
       "    <tr>\n",
       "      <th>25%</th>\n",
       "      <td>228430.000000</td>\n",
       "      <td>0.000000e+00</td>\n",
       "      <td>0.000000e+00</td>\n",
       "      <td>0.000000e+00</td>\n",
       "      <td>0.000000e+00</td>\n",
       "      <td>0.000000e+00</td>\n",
       "      <td>2.150728e+03</td>\n",
       "      <td>1.566086e+12</td>\n",
       "    </tr>\n",
       "    <tr>\n",
       "      <th>50%</th>\n",
       "      <td>437840.000000</td>\n",
       "      <td>5.610000e-03</td>\n",
       "      <td>5.901000e-03</td>\n",
       "      <td>5.275000e-03</td>\n",
       "      <td>5.640000e-03</td>\n",
       "      <td>0.000000e+00</td>\n",
       "      <td>6.353086e+04</td>\n",
       "      <td>1.587859e+12</td>\n",
       "    </tr>\n",
       "    <tr>\n",
       "      <th>75%</th>\n",
       "      <td>647250.000000</td>\n",
       "      <td>5.787000e+00</td>\n",
       "      <td>6.101000e+00</td>\n",
       "      <td>5.488000e+00</td>\n",
       "      <td>5.807000e+00</td>\n",
       "      <td>5.484390e+05</td>\n",
       "      <td>1.756735e+06</td>\n",
       "      <td>1.609632e+12</td>\n",
       "    </tr>\n",
       "    <tr>\n",
       "      <th>max</th>\n",
       "      <td>856660.000000</td>\n",
       "      <td>6.991611e+06</td>\n",
       "      <td>8.575500e+09</td>\n",
       "      <td>6.991611e+06</td>\n",
       "      <td>6.991611e+06</td>\n",
       "      <td>1.759856e+10</td>\n",
       "      <td>4.577126e+11</td>\n",
       "      <td>1.631405e+12</td>\n",
       "    </tr>\n",
       "  </tbody>\n",
       "</table>\n",
       "</div>"
      ],
      "text/plain": [
       "                  id          open          high           low         price  \\\n",
       "count  837641.000000  8.376410e+05  8.376410e+05  8.376410e+05  8.376410e+05   \n",
       "mean   437840.000000  6.624918e+03  1.783694e+04  6.593647e+03  6.625984e+03   \n",
       "std    241806.272754  1.633558e+05  9.410764e+06  1.633494e+05  1.633547e+05   \n",
       "min     19020.000000  0.000000e+00  0.000000e+00  0.000000e+00  0.000000e+00   \n",
       "25%    228430.000000  0.000000e+00  0.000000e+00  0.000000e+00  0.000000e+00   \n",
       "50%    437840.000000  5.610000e-03  5.901000e-03  5.275000e-03  5.640000e-03   \n",
       "75%    647250.000000  5.787000e+00  6.101000e+00  5.488000e+00  5.807000e+00   \n",
       "max    856660.000000  6.991611e+06  8.575500e+09  6.991611e+06  6.991611e+06   \n",
       "\n",
       "             volume        amount     timestamp  \n",
       "count  8.376390e+05  4.289390e+05  8.376410e+05  \n",
       "mean   1.136804e+07  8.455479e+07  1.587902e+12  \n",
       "std    1.146863e+08  1.859976e+09  2.514086e+10  \n",
       "min    0.000000e+00  0.000000e+00  1.544400e+12  \n",
       "25%    0.000000e+00  2.150728e+03  1.566086e+12  \n",
       "50%    0.000000e+00  6.353086e+04  1.587859e+12  \n",
       "75%    5.484390e+05  1.756735e+06  1.609632e+12  \n",
       "max    1.759856e+10  4.577126e+11  1.631405e+12  "
      ]
     },
     "execution_count": 6,
     "metadata": {},
     "output_type": "execute_result"
    }
   ],
   "source": [
    "data.describe()"
   ]
  },
  {
   "cell_type": "markdown",
   "id": "1158d5c9",
   "metadata": {},
   "source": [
    "#### Find missing values in the dataset"
   ]
  },
  {
   "cell_type": "code",
   "execution_count": 7,
   "id": "85d05278",
   "metadata": {
    "scrolled": true
   },
   "outputs": [
    {
     "data": {
      "text/plain": [
       "id                 0\n",
       "created_at         0\n",
       "open               0\n",
       "high               0\n",
       "low                0\n",
       "price              0\n",
       "volume             2\n",
       "amount        408702\n",
       "symbol             0\n",
       "exchange           0\n",
       "timestamp          0\n",
       "date               0\n",
       "dtype: int64"
      ]
     },
     "execution_count": 7,
     "metadata": {},
     "output_type": "execute_result"
    }
   ],
   "source": [
    "data.isnull().sum()"
   ]
  },
  {
   "cell_type": "markdown",
   "id": "05290bbe",
   "metadata": {},
   "source": [
    "#### To filter out the volume data with 0.0 value"
   ]
  },
  {
   "cell_type": "code",
   "execution_count": 8,
   "id": "848025a3",
   "metadata": {},
   "outputs": [],
   "source": [
    "data_nonzero_volume = data[data['volume']!=0.0]"
   ]
  },
  {
   "cell_type": "code",
   "execution_count": 9,
   "id": "3540a7b0",
   "metadata": {
    "scrolled": true
   },
   "outputs": [
    {
     "data": {
      "text/html": [
       "<div>\n",
       "<style scoped>\n",
       "    .dataframe tbody tr th:only-of-type {\n",
       "        vertical-align: middle;\n",
       "    }\n",
       "\n",
       "    .dataframe tbody tr th {\n",
       "        vertical-align: top;\n",
       "    }\n",
       "\n",
       "    .dataframe thead th {\n",
       "        text-align: right;\n",
       "    }\n",
       "</style>\n",
       "<table border=\"1\" class=\"dataframe\">\n",
       "  <thead>\n",
       "    <tr style=\"text-align: right;\">\n",
       "      <th></th>\n",
       "      <th>id</th>\n",
       "      <th>created_at</th>\n",
       "      <th>open</th>\n",
       "      <th>high</th>\n",
       "      <th>low</th>\n",
       "      <th>price</th>\n",
       "      <th>volume</th>\n",
       "      <th>amount</th>\n",
       "      <th>symbol</th>\n",
       "      <th>exchange</th>\n",
       "      <th>timestamp</th>\n",
       "      <th>date</th>\n",
       "    </tr>\n",
       "  </thead>\n",
       "  <tbody>\n",
       "    <tr>\n",
       "      <th>1</th>\n",
       "      <td>737217</td>\n",
       "      <td>2021-09-12 07:52:12</td>\n",
       "      <td>0.0365</td>\n",
       "      <td>0.0371</td>\n",
       "      <td>0.0349</td>\n",
       "      <td>0.0360</td>\n",
       "      <td>44107.49</td>\n",
       "      <td>1225208.056</td>\n",
       "      <td>lrc-usdt</td>\n",
       "      <td>okex</td>\n",
       "      <td>1544400000000</td>\n",
       "      <td>2018-12-10</td>\n",
       "    </tr>\n",
       "    <tr>\n",
       "      <th>12</th>\n",
       "      <td>723203</td>\n",
       "      <td>2021-09-12 07:48:56</td>\n",
       "      <td>14.5000</td>\n",
       "      <td>14.5200</td>\n",
       "      <td>12.0000</td>\n",
       "      <td>12.1900</td>\n",
       "      <td>85498.33</td>\n",
       "      <td>7013.809</td>\n",
       "      <td>gno-usd</td>\n",
       "      <td>kraken</td>\n",
       "      <td>1544400000000</td>\n",
       "      <td>2018-12-10</td>\n",
       "    </tr>\n",
       "    <tr>\n",
       "      <th>26</th>\n",
       "      <td>750230</td>\n",
       "      <td>2021-09-12 07:55:36</td>\n",
       "      <td>0.3285</td>\n",
       "      <td>0.3320</td>\n",
       "      <td>0.3035</td>\n",
       "      <td>0.3100</td>\n",
       "      <td>646292.56</td>\n",
       "      <td>2084814.710</td>\n",
       "      <td>zrx-usd</td>\n",
       "      <td>coinbase</td>\n",
       "      <td>1544400000000</td>\n",
       "      <td>2018-12-10</td>\n",
       "    </tr>\n",
       "    <tr>\n",
       "      <th>35</th>\n",
       "      <td>759239</td>\n",
       "      <td>2021-09-12 07:56:40</td>\n",
       "      <td>0.3290</td>\n",
       "      <td>0.3321</td>\n",
       "      <td>0.3065</td>\n",
       "      <td>0.3118</td>\n",
       "      <td>76289.25</td>\n",
       "      <td>244673.669</td>\n",
       "      <td>zrx-usdt</td>\n",
       "      <td>okex</td>\n",
       "      <td>1544400000000</td>\n",
       "      <td>2018-12-10</td>\n",
       "    </tr>\n",
       "    <tr>\n",
       "      <th>37</th>\n",
       "      <td>758238</td>\n",
       "      <td>2021-09-12 07:56:37</td>\n",
       "      <td>0.3270</td>\n",
       "      <td>0.3270</td>\n",
       "      <td>0.3057</td>\n",
       "      <td>0.3128</td>\n",
       "      <td>6730.28</td>\n",
       "      <td>21516.240</td>\n",
       "      <td>zrx-usdt</td>\n",
       "      <td>poloniex</td>\n",
       "      <td>1544400000000</td>\n",
       "      <td>2018-12-10</td>\n",
       "    </tr>\n",
       "  </tbody>\n",
       "</table>\n",
       "</div>"
      ],
      "text/plain": [
       "        id          created_at     open     high      low    price     volume  \\\n",
       "1   737217 2021-09-12 07:52:12   0.0365   0.0371   0.0349   0.0360   44107.49   \n",
       "12  723203 2021-09-12 07:48:56  14.5000  14.5200  12.0000  12.1900   85498.33   \n",
       "26  750230 2021-09-12 07:55:36   0.3285   0.3320   0.3035   0.3100  646292.56   \n",
       "35  759239 2021-09-12 07:56:40   0.3290   0.3321   0.3065   0.3118   76289.25   \n",
       "37  758238 2021-09-12 07:56:37   0.3270   0.3270   0.3057   0.3128    6730.28   \n",
       "\n",
       "         amount    symbol  exchange      timestamp       date  \n",
       "1   1225208.056  lrc-usdt      okex  1544400000000 2018-12-10  \n",
       "12     7013.809   gno-usd    kraken  1544400000000 2018-12-10  \n",
       "26  2084814.710   zrx-usd  coinbase  1544400000000 2018-12-10  \n",
       "35   244673.669  zrx-usdt      okex  1544400000000 2018-12-10  \n",
       "37    21516.240  zrx-usdt  poloniex  1544400000000 2018-12-10  "
      ]
     },
     "execution_count": 9,
     "metadata": {},
     "output_type": "execute_result"
    }
   ],
   "source": [
    "data_nonzero_volume.head()"
   ]
  },
  {
   "cell_type": "code",
   "execution_count": 10,
   "id": "6b5f778b",
   "metadata": {
    "scrolled": false
   },
   "outputs": [
    {
     "data": {
      "text/html": [
       "<div>\n",
       "<style scoped>\n",
       "    .dataframe tbody tr th:only-of-type {\n",
       "        vertical-align: middle;\n",
       "    }\n",
       "\n",
       "    .dataframe tbody tr th {\n",
       "        vertical-align: top;\n",
       "    }\n",
       "\n",
       "    .dataframe thead th {\n",
       "        text-align: right;\n",
       "    }\n",
       "</style>\n",
       "<table border=\"1\" class=\"dataframe\">\n",
       "  <thead>\n",
       "    <tr style=\"text-align: right;\">\n",
       "      <th></th>\n",
       "      <th>id</th>\n",
       "      <th>open</th>\n",
       "      <th>high</th>\n",
       "      <th>low</th>\n",
       "      <th>price</th>\n",
       "      <th>volume</th>\n",
       "      <th>amount</th>\n",
       "      <th>timestamp</th>\n",
       "    </tr>\n",
       "  </thead>\n",
       "  <tbody>\n",
       "    <tr>\n",
       "      <th>count</th>\n",
       "      <td>394814.000000</td>\n",
       "      <td>3.948140e+05</td>\n",
       "      <td>3.948140e+05</td>\n",
       "      <td>3.948140e+05</td>\n",
       "      <td>394814.000000</td>\n",
       "      <td>3.948120e+05</td>\n",
       "      <td>3.948120e+05</td>\n",
       "      <td>3.948140e+05</td>\n",
       "    </tr>\n",
       "    <tr>\n",
       "      <th>mean</th>\n",
       "      <td>420910.180452</td>\n",
       "      <td>1.489785e+03</td>\n",
       "      <td>2.527731e+04</td>\n",
       "      <td>1.423441e+03</td>\n",
       "      <td>1492.046188</td>\n",
       "      <td>2.411860e+07</td>\n",
       "      <td>9.186359e+07</td>\n",
       "      <td>1.600706e+12</td>\n",
       "    </tr>\n",
       "    <tr>\n",
       "      <th>std</th>\n",
       "      <td>238736.917420</td>\n",
       "      <td>7.030522e+03</td>\n",
       "      <td>1.370542e+07</td>\n",
       "      <td>6.655222e+03</td>\n",
       "      <td>6975.946335</td>\n",
       "      <td>1.661265e+08</td>\n",
       "      <td>1.938524e+09</td>\n",
       "      <td>2.342079e+10</td>\n",
       "    </tr>\n",
       "    <tr>\n",
       "      <th>min</th>\n",
       "      <td>19676.000000</td>\n",
       "      <td>2.000000e-08</td>\n",
       "      <td>1.814000e-04</td>\n",
       "      <td>2.000000e-08</td>\n",
       "      <td>0.000110</td>\n",
       "      <td>8.000000e-08</td>\n",
       "      <td>0.000000e+00</td>\n",
       "      <td>1.544400e+12</td>\n",
       "    </tr>\n",
       "    <tr>\n",
       "      <th>25%</th>\n",
       "      <td>210293.250000</td>\n",
       "      <td>3.982000e-01</td>\n",
       "      <td>4.258000e-01</td>\n",
       "      <td>3.750000e-01</td>\n",
       "      <td>0.399800</td>\n",
       "      <td>6.892069e+04</td>\n",
       "      <td>5.311226e+03</td>\n",
       "      <td>1.584749e+12</td>\n",
       "    </tr>\n",
       "    <tr>\n",
       "      <th>50%</th>\n",
       "      <td>412504.500000</td>\n",
       "      <td>4.388000e+00</td>\n",
       "      <td>4.631000e+00</td>\n",
       "      <td>4.160000e+00</td>\n",
       "      <td>4.399000</td>\n",
       "      <td>7.098228e+05</td>\n",
       "      <td>1.044367e+05</td>\n",
       "      <td>1.606522e+12</td>\n",
       "    </tr>\n",
       "    <tr>\n",
       "      <th>75%</th>\n",
       "      <td>634070.750000</td>\n",
       "      <td>7.381000e+01</td>\n",
       "      <td>7.711750e+01</td>\n",
       "      <td>7.102000e+01</td>\n",
       "      <td>73.967500</td>\n",
       "      <td>6.455944e+06</td>\n",
       "      <td>2.342291e+06</td>\n",
       "      <td>1.620173e+12</td>\n",
       "    </tr>\n",
       "    <tr>\n",
       "      <th>max</th>\n",
       "      <td>856660.000000</td>\n",
       "      <td>6.080900e+05</td>\n",
       "      <td>8.575500e+09</td>\n",
       "      <td>6.988800e+04</td>\n",
       "      <td>83016.550000</td>\n",
       "      <td>1.759856e+10</td>\n",
       "      <td>4.577126e+11</td>\n",
       "      <td>1.631405e+12</td>\n",
       "    </tr>\n",
       "  </tbody>\n",
       "</table>\n",
       "</div>"
      ],
      "text/plain": [
       "                  id          open          high           low          price  \\\n",
       "count  394814.000000  3.948140e+05  3.948140e+05  3.948140e+05  394814.000000   \n",
       "mean   420910.180452  1.489785e+03  2.527731e+04  1.423441e+03    1492.046188   \n",
       "std    238736.917420  7.030522e+03  1.370542e+07  6.655222e+03    6975.946335   \n",
       "min     19676.000000  2.000000e-08  1.814000e-04  2.000000e-08       0.000110   \n",
       "25%    210293.250000  3.982000e-01  4.258000e-01  3.750000e-01       0.399800   \n",
       "50%    412504.500000  4.388000e+00  4.631000e+00  4.160000e+00       4.399000   \n",
       "75%    634070.750000  7.381000e+01  7.711750e+01  7.102000e+01      73.967500   \n",
       "max    856660.000000  6.080900e+05  8.575500e+09  6.988800e+04   83016.550000   \n",
       "\n",
       "             volume        amount     timestamp  \n",
       "count  3.948120e+05  3.948120e+05  3.948140e+05  \n",
       "mean   2.411860e+07  9.186359e+07  1.600706e+12  \n",
       "std    1.661265e+08  1.938524e+09  2.342079e+10  \n",
       "min    8.000000e-08  0.000000e+00  1.544400e+12  \n",
       "25%    6.892069e+04  5.311226e+03  1.584749e+12  \n",
       "50%    7.098228e+05  1.044367e+05  1.606522e+12  \n",
       "75%    6.455944e+06  2.342291e+06  1.620173e+12  \n",
       "max    1.759856e+10  4.577126e+11  1.631405e+12  "
      ]
     },
     "execution_count": 10,
     "metadata": {},
     "output_type": "execute_result"
    }
   ],
   "source": [
    "data_nonzero_volume.describe()"
   ]
  },
  {
   "cell_type": "code",
   "execution_count": 11,
   "id": "427570f0",
   "metadata": {},
   "outputs": [],
   "source": [
    "data_nonzero_volume_null = data_nonzero_volume[data_nonzero_volume['volume'].isnull()]"
   ]
  },
  {
   "cell_type": "code",
   "execution_count": 12,
   "id": "71e23fa3",
   "metadata": {},
   "outputs": [
    {
     "data": {
      "text/html": [
       "<div>\n",
       "<style scoped>\n",
       "    .dataframe tbody tr th:only-of-type {\n",
       "        vertical-align: middle;\n",
       "    }\n",
       "\n",
       "    .dataframe tbody tr th {\n",
       "        vertical-align: top;\n",
       "    }\n",
       "\n",
       "    .dataframe thead th {\n",
       "        text-align: right;\n",
       "    }\n",
       "</style>\n",
       "<table border=\"1\" class=\"dataframe\">\n",
       "  <thead>\n",
       "    <tr style=\"text-align: right;\">\n",
       "      <th></th>\n",
       "      <th>id</th>\n",
       "      <th>open</th>\n",
       "      <th>high</th>\n",
       "      <th>low</th>\n",
       "      <th>price</th>\n",
       "      <th>volume</th>\n",
       "      <th>amount</th>\n",
       "      <th>timestamp</th>\n",
       "    </tr>\n",
       "  </thead>\n",
       "  <tbody>\n",
       "    <tr>\n",
       "      <th>count</th>\n",
       "      <td>2.000000</td>\n",
       "      <td>2.000000</td>\n",
       "      <td>2.000000</td>\n",
       "      <td>2.000000</td>\n",
       "      <td>2.000000</td>\n",
       "      <td>0.0</td>\n",
       "      <td>0.0</td>\n",
       "      <td>2.000000e+00</td>\n",
       "    </tr>\n",
       "    <tr>\n",
       "      <th>mean</th>\n",
       "      <td>139654.500000</td>\n",
       "      <td>95.652100</td>\n",
       "      <td>96.207100</td>\n",
       "      <td>92.366250</td>\n",
       "      <td>93.411850</td>\n",
       "      <td>NaN</td>\n",
       "      <td>NaN</td>\n",
       "      <td>1.584878e+12</td>\n",
       "    </tr>\n",
       "    <tr>\n",
       "      <th>std</th>\n",
       "      <td>38414.990102</td>\n",
       "      <td>135.068567</td>\n",
       "      <td>135.853456</td>\n",
       "      <td>130.424078</td>\n",
       "      <td>131.901083</td>\n",
       "      <td>NaN</td>\n",
       "      <td>NaN</td>\n",
       "      <td>1.667867e+10</td>\n",
       "    </tr>\n",
       "    <tr>\n",
       "      <th>min</th>\n",
       "      <td>112491.000000</td>\n",
       "      <td>0.144200</td>\n",
       "      <td>0.144200</td>\n",
       "      <td>0.142500</td>\n",
       "      <td>0.143700</td>\n",
       "      <td>NaN</td>\n",
       "      <td>NaN</td>\n",
       "      <td>1.573085e+12</td>\n",
       "    </tr>\n",
       "    <tr>\n",
       "      <th>25%</th>\n",
       "      <td>126072.750000</td>\n",
       "      <td>47.898150</td>\n",
       "      <td>48.175650</td>\n",
       "      <td>46.254375</td>\n",
       "      <td>46.777775</td>\n",
       "      <td>NaN</td>\n",
       "      <td>NaN</td>\n",
       "      <td>1.578982e+12</td>\n",
       "    </tr>\n",
       "    <tr>\n",
       "      <th>50%</th>\n",
       "      <td>139654.500000</td>\n",
       "      <td>95.652100</td>\n",
       "      <td>96.207100</td>\n",
       "      <td>92.366250</td>\n",
       "      <td>93.411850</td>\n",
       "      <td>NaN</td>\n",
       "      <td>NaN</td>\n",
       "      <td>1.584878e+12</td>\n",
       "    </tr>\n",
       "    <tr>\n",
       "      <th>75%</th>\n",
       "      <td>153236.250000</td>\n",
       "      <td>143.406050</td>\n",
       "      <td>144.238550</td>\n",
       "      <td>138.478125</td>\n",
       "      <td>140.045925</td>\n",
       "      <td>NaN</td>\n",
       "      <td>NaN</td>\n",
       "      <td>1.590775e+12</td>\n",
       "    </tr>\n",
       "    <tr>\n",
       "      <th>max</th>\n",
       "      <td>166818.000000</td>\n",
       "      <td>191.160000</td>\n",
       "      <td>192.270000</td>\n",
       "      <td>184.590000</td>\n",
       "      <td>186.680000</td>\n",
       "      <td>NaN</td>\n",
       "      <td>NaN</td>\n",
       "      <td>1.596672e+12</td>\n",
       "    </tr>\n",
       "  </tbody>\n",
       "</table>\n",
       "</div>"
      ],
      "text/plain": [
       "                  id        open        high         low       price  volume  \\\n",
       "count       2.000000    2.000000    2.000000    2.000000    2.000000     0.0   \n",
       "mean   139654.500000   95.652100   96.207100   92.366250   93.411850     NaN   \n",
       "std     38414.990102  135.068567  135.853456  130.424078  131.901083     NaN   \n",
       "min    112491.000000    0.144200    0.144200    0.142500    0.143700     NaN   \n",
       "25%    126072.750000   47.898150   48.175650   46.254375   46.777775     NaN   \n",
       "50%    139654.500000   95.652100   96.207100   92.366250   93.411850     NaN   \n",
       "75%    153236.250000  143.406050  144.238550  138.478125  140.045925     NaN   \n",
       "max    166818.000000  191.160000  192.270000  184.590000  186.680000     NaN   \n",
       "\n",
       "       amount     timestamp  \n",
       "count     0.0  2.000000e+00  \n",
       "mean      NaN  1.584878e+12  \n",
       "std       NaN  1.667867e+10  \n",
       "min       NaN  1.573085e+12  \n",
       "25%       NaN  1.578982e+12  \n",
       "50%       NaN  1.584878e+12  \n",
       "75%       NaN  1.590775e+12  \n",
       "max       NaN  1.596672e+12  "
      ]
     },
     "execution_count": 12,
     "metadata": {},
     "output_type": "execute_result"
    }
   ],
   "source": [
    "data_nonzero_volume_null.describe()"
   ]
  },
  {
   "cell_type": "markdown",
   "id": "00b7ce6f",
   "metadata": {},
   "source": [
    "#### remove missing data from the 'new nonzero volume dataset'"
   ]
  },
  {
   "cell_type": "code",
   "execution_count": 13,
   "id": "a434c186",
   "metadata": {},
   "outputs": [],
   "source": [
    "data_nonzero_volume_notnull = data_nonzero_volume[data_nonzero_volume['volume'].notnull()]"
   ]
  },
  {
   "cell_type": "code",
   "execution_count": 14,
   "id": "9ddfa792",
   "metadata": {},
   "outputs": [
    {
     "data": {
      "text/html": [
       "<div>\n",
       "<style scoped>\n",
       "    .dataframe tbody tr th:only-of-type {\n",
       "        vertical-align: middle;\n",
       "    }\n",
       "\n",
       "    .dataframe tbody tr th {\n",
       "        vertical-align: top;\n",
       "    }\n",
       "\n",
       "    .dataframe thead th {\n",
       "        text-align: right;\n",
       "    }\n",
       "</style>\n",
       "<table border=\"1\" class=\"dataframe\">\n",
       "  <thead>\n",
       "    <tr style=\"text-align: right;\">\n",
       "      <th></th>\n",
       "      <th>id</th>\n",
       "      <th>open</th>\n",
       "      <th>high</th>\n",
       "      <th>low</th>\n",
       "      <th>price</th>\n",
       "      <th>volume</th>\n",
       "      <th>amount</th>\n",
       "      <th>timestamp</th>\n",
       "    </tr>\n",
       "  </thead>\n",
       "  <tbody>\n",
       "    <tr>\n",
       "      <th>count</th>\n",
       "      <td>394812.000000</td>\n",
       "      <td>3.948120e+05</td>\n",
       "      <td>3.948120e+05</td>\n",
       "      <td>3.948120e+05</td>\n",
       "      <td>394812.000000</td>\n",
       "      <td>3.948120e+05</td>\n",
       "      <td>3.948120e+05</td>\n",
       "      <td>3.948120e+05</td>\n",
       "    </tr>\n",
       "    <tr>\n",
       "      <th>mean</th>\n",
       "      <td>420911.605210</td>\n",
       "      <td>1.489792e+03</td>\n",
       "      <td>2.527744e+04</td>\n",
       "      <td>1.423448e+03</td>\n",
       "      <td>1492.053274</td>\n",
       "      <td>2.411860e+07</td>\n",
       "      <td>9.186359e+07</td>\n",
       "      <td>1.600706e+12</td>\n",
       "    </tr>\n",
       "    <tr>\n",
       "      <th>std</th>\n",
       "      <td>238736.675019</td>\n",
       "      <td>7.030539e+03</td>\n",
       "      <td>1.370546e+07</td>\n",
       "      <td>6.655239e+03</td>\n",
       "      <td>6975.963291</td>\n",
       "      <td>1.661265e+08</td>\n",
       "      <td>1.938524e+09</td>\n",
       "      <td>2.342081e+10</td>\n",
       "    </tr>\n",
       "    <tr>\n",
       "      <th>min</th>\n",
       "      <td>19676.000000</td>\n",
       "      <td>2.000000e-08</td>\n",
       "      <td>1.814000e-04</td>\n",
       "      <td>2.000000e-08</td>\n",
       "      <td>0.000110</td>\n",
       "      <td>8.000000e-08</td>\n",
       "      <td>0.000000e+00</td>\n",
       "      <td>1.544400e+12</td>\n",
       "    </tr>\n",
       "    <tr>\n",
       "      <th>25%</th>\n",
       "      <td>210294.750000</td>\n",
       "      <td>3.982000e-01</td>\n",
       "      <td>4.258000e-01</td>\n",
       "      <td>3.750000e-01</td>\n",
       "      <td>0.399800</td>\n",
       "      <td>6.892069e+04</td>\n",
       "      <td>5.311226e+03</td>\n",
       "      <td>1.584749e+12</td>\n",
       "    </tr>\n",
       "    <tr>\n",
       "      <th>50%</th>\n",
       "      <td>412505.500000</td>\n",
       "      <td>4.388000e+00</td>\n",
       "      <td>4.631000e+00</td>\n",
       "      <td>4.160000e+00</td>\n",
       "      <td>4.399000</td>\n",
       "      <td>7.098228e+05</td>\n",
       "      <td>1.044367e+05</td>\n",
       "      <td>1.606522e+12</td>\n",
       "    </tr>\n",
       "    <tr>\n",
       "      <th>75%</th>\n",
       "      <td>634071.250000</td>\n",
       "      <td>7.381000e+01</td>\n",
       "      <td>7.711250e+01</td>\n",
       "      <td>7.102000e+01</td>\n",
       "      <td>73.962500</td>\n",
       "      <td>6.455944e+06</td>\n",
       "      <td>2.342291e+06</td>\n",
       "      <td>1.620173e+12</td>\n",
       "    </tr>\n",
       "    <tr>\n",
       "      <th>max</th>\n",
       "      <td>856660.000000</td>\n",
       "      <td>6.080900e+05</td>\n",
       "      <td>8.575500e+09</td>\n",
       "      <td>6.988800e+04</td>\n",
       "      <td>83016.550000</td>\n",
       "      <td>1.759856e+10</td>\n",
       "      <td>4.577126e+11</td>\n",
       "      <td>1.631405e+12</td>\n",
       "    </tr>\n",
       "  </tbody>\n",
       "</table>\n",
       "</div>"
      ],
      "text/plain": [
       "                  id          open          high           low          price  \\\n",
       "count  394812.000000  3.948120e+05  3.948120e+05  3.948120e+05  394812.000000   \n",
       "mean   420911.605210  1.489792e+03  2.527744e+04  1.423448e+03    1492.053274   \n",
       "std    238736.675019  7.030539e+03  1.370546e+07  6.655239e+03    6975.963291   \n",
       "min     19676.000000  2.000000e-08  1.814000e-04  2.000000e-08       0.000110   \n",
       "25%    210294.750000  3.982000e-01  4.258000e-01  3.750000e-01       0.399800   \n",
       "50%    412505.500000  4.388000e+00  4.631000e+00  4.160000e+00       4.399000   \n",
       "75%    634071.250000  7.381000e+01  7.711250e+01  7.102000e+01      73.962500   \n",
       "max    856660.000000  6.080900e+05  8.575500e+09  6.988800e+04   83016.550000   \n",
       "\n",
       "             volume        amount     timestamp  \n",
       "count  3.948120e+05  3.948120e+05  3.948120e+05  \n",
       "mean   2.411860e+07  9.186359e+07  1.600706e+12  \n",
       "std    1.661265e+08  1.938524e+09  2.342081e+10  \n",
       "min    8.000000e-08  0.000000e+00  1.544400e+12  \n",
       "25%    6.892069e+04  5.311226e+03  1.584749e+12  \n",
       "50%    7.098228e+05  1.044367e+05  1.606522e+12  \n",
       "75%    6.455944e+06  2.342291e+06  1.620173e+12  \n",
       "max    1.759856e+10  4.577126e+11  1.631405e+12  "
      ]
     },
     "execution_count": 14,
     "metadata": {},
     "output_type": "execute_result"
    }
   ],
   "source": [
    "data_nonzero_volume_notnull.describe()"
   ]
  },
  {
   "cell_type": "code",
   "execution_count": 15,
   "id": "d1209bc8",
   "metadata": {},
   "outputs": [
    {
     "data": {
      "text/html": [
       "<div>\n",
       "<style scoped>\n",
       "    .dataframe tbody tr th:only-of-type {\n",
       "        vertical-align: middle;\n",
       "    }\n",
       "\n",
       "    .dataframe tbody tr th {\n",
       "        vertical-align: top;\n",
       "    }\n",
       "\n",
       "    .dataframe thead th {\n",
       "        text-align: right;\n",
       "    }\n",
       "</style>\n",
       "<table border=\"1\" class=\"dataframe\">\n",
       "  <thead>\n",
       "    <tr style=\"text-align: right;\">\n",
       "      <th></th>\n",
       "      <th>id</th>\n",
       "      <th>created_at</th>\n",
       "      <th>open</th>\n",
       "      <th>high</th>\n",
       "      <th>low</th>\n",
       "      <th>price</th>\n",
       "      <th>volume</th>\n",
       "      <th>amount</th>\n",
       "      <th>symbol</th>\n",
       "      <th>exchange</th>\n",
       "      <th>timestamp</th>\n",
       "      <th>date</th>\n",
       "    </tr>\n",
       "  </thead>\n",
       "  <tbody>\n",
       "    <tr>\n",
       "      <th>1</th>\n",
       "      <td>737217</td>\n",
       "      <td>2021-09-12 07:52:12</td>\n",
       "      <td>0.0365</td>\n",
       "      <td>0.0371</td>\n",
       "      <td>0.0349</td>\n",
       "      <td>0.0360</td>\n",
       "      <td>44107.49</td>\n",
       "      <td>1225208.056</td>\n",
       "      <td>lrc-usdt</td>\n",
       "      <td>okex</td>\n",
       "      <td>1544400000000</td>\n",
       "      <td>2018-12-10</td>\n",
       "    </tr>\n",
       "    <tr>\n",
       "      <th>12</th>\n",
       "      <td>723203</td>\n",
       "      <td>2021-09-12 07:48:56</td>\n",
       "      <td>14.5000</td>\n",
       "      <td>14.5200</td>\n",
       "      <td>12.0000</td>\n",
       "      <td>12.1900</td>\n",
       "      <td>85498.33</td>\n",
       "      <td>7013.809</td>\n",
       "      <td>gno-usd</td>\n",
       "      <td>kraken</td>\n",
       "      <td>1544400000000</td>\n",
       "      <td>2018-12-10</td>\n",
       "    </tr>\n",
       "    <tr>\n",
       "      <th>26</th>\n",
       "      <td>750230</td>\n",
       "      <td>2021-09-12 07:55:36</td>\n",
       "      <td>0.3285</td>\n",
       "      <td>0.3320</td>\n",
       "      <td>0.3035</td>\n",
       "      <td>0.3100</td>\n",
       "      <td>646292.56</td>\n",
       "      <td>2084814.710</td>\n",
       "      <td>zrx-usd</td>\n",
       "      <td>coinbase</td>\n",
       "      <td>1544400000000</td>\n",
       "      <td>2018-12-10</td>\n",
       "    </tr>\n",
       "    <tr>\n",
       "      <th>35</th>\n",
       "      <td>759239</td>\n",
       "      <td>2021-09-12 07:56:40</td>\n",
       "      <td>0.3290</td>\n",
       "      <td>0.3321</td>\n",
       "      <td>0.3065</td>\n",
       "      <td>0.3118</td>\n",
       "      <td>76289.25</td>\n",
       "      <td>244673.669</td>\n",
       "      <td>zrx-usdt</td>\n",
       "      <td>okex</td>\n",
       "      <td>1544400000000</td>\n",
       "      <td>2018-12-10</td>\n",
       "    </tr>\n",
       "    <tr>\n",
       "      <th>37</th>\n",
       "      <td>758238</td>\n",
       "      <td>2021-09-12 07:56:37</td>\n",
       "      <td>0.3270</td>\n",
       "      <td>0.3270</td>\n",
       "      <td>0.3057</td>\n",
       "      <td>0.3128</td>\n",
       "      <td>6730.28</td>\n",
       "      <td>21516.240</td>\n",
       "      <td>zrx-usdt</td>\n",
       "      <td>poloniex</td>\n",
       "      <td>1544400000000</td>\n",
       "      <td>2018-12-10</td>\n",
       "    </tr>\n",
       "  </tbody>\n",
       "</table>\n",
       "</div>"
      ],
      "text/plain": [
       "        id          created_at     open     high      low    price     volume  \\\n",
       "1   737217 2021-09-12 07:52:12   0.0365   0.0371   0.0349   0.0360   44107.49   \n",
       "12  723203 2021-09-12 07:48:56  14.5000  14.5200  12.0000  12.1900   85498.33   \n",
       "26  750230 2021-09-12 07:55:36   0.3285   0.3320   0.3035   0.3100  646292.56   \n",
       "35  759239 2021-09-12 07:56:40   0.3290   0.3321   0.3065   0.3118   76289.25   \n",
       "37  758238 2021-09-12 07:56:37   0.3270   0.3270   0.3057   0.3128    6730.28   \n",
       "\n",
       "         amount    symbol  exchange      timestamp       date  \n",
       "1   1225208.056  lrc-usdt      okex  1544400000000 2018-12-10  \n",
       "12     7013.809   gno-usd    kraken  1544400000000 2018-12-10  \n",
       "26  2084814.710   zrx-usd  coinbase  1544400000000 2018-12-10  \n",
       "35   244673.669  zrx-usdt      okex  1544400000000 2018-12-10  \n",
       "37    21516.240  zrx-usdt  poloniex  1544400000000 2018-12-10  "
      ]
     },
     "execution_count": 15,
     "metadata": {},
     "output_type": "execute_result"
    }
   ],
   "source": [
    "data_nonzero_volume_notnull.head()"
   ]
  },
  {
   "cell_type": "markdown",
   "id": "74aa39f1",
   "metadata": {},
   "source": [
    "#### check duplicated rows in the dataset "
   ]
  },
  {
   "cell_type": "code",
   "execution_count": 16,
   "id": "8e393330",
   "metadata": {},
   "outputs": [
    {
     "data": {
      "text/plain": [
       "0"
      ]
     },
     "execution_count": 16,
     "metadata": {},
     "output_type": "execute_result"
    }
   ],
   "source": [
    "data_nonzero_volume_notnull.duplicated().sum()"
   ]
  },
  {
   "cell_type": "markdown",
   "id": "bc4ff4d9",
   "metadata": {},
   "source": [
    "#### check dupliacted data for symbol, exchange and date "
   ]
  },
  {
   "cell_type": "code",
   "execution_count": 17,
   "id": "a89a2bd9",
   "metadata": {},
   "outputs": [
    {
     "data": {
      "text/plain": [
       "394610"
      ]
     },
     "execution_count": 17,
     "metadata": {},
     "output_type": "execute_result"
    }
   ],
   "source": [
    "data_nonzero_volume_notnull.duplicated('symbol').sum()"
   ]
  },
  {
   "cell_type": "markdown",
   "id": "7e0502b4",
   "metadata": {},
   "source": [
    "### This confirms that there are no duplicate entries for a symbol on the same exchange and date"
   ]
  },
  {
   "cell_type": "markdown",
   "id": "7d9b6567",
   "metadata": {},
   "source": [
    "# COIN VALUE ANALYSIS"
   ]
  },
  {
   "cell_type": "markdown",
   "id": "62e1b25e",
   "metadata": {},
   "source": [
    "### Coin value irrespective of date"
   ]
  },
  {
   "cell_type": "markdown",
   "id": "508f221c",
   "metadata": {},
   "source": [
    "#### create a dataframe for coin volume analysis"
   ]
  },
  {
   "cell_type": "code",
   "execution_count": 18,
   "id": "89970eb8",
   "metadata": {
    "scrolled": true
   },
   "outputs": [
    {
     "data": {
      "text/html": [
       "<div>\n",
       "<style scoped>\n",
       "    .dataframe tbody tr th:only-of-type {\n",
       "        vertical-align: middle;\n",
       "    }\n",
       "\n",
       "    .dataframe tbody tr th {\n",
       "        vertical-align: top;\n",
       "    }\n",
       "\n",
       "    .dataframe thead th {\n",
       "        text-align: right;\n",
       "    }\n",
       "</style>\n",
       "<table border=\"1\" class=\"dataframe\">\n",
       "  <thead>\n",
       "    <tr style=\"text-align: right;\">\n",
       "      <th></th>\n",
       "      <th>volume</th>\n",
       "      <th>amount</th>\n",
       "      <th>symbol</th>\n",
       "      <th>exchange</th>\n",
       "      <th>date</th>\n",
       "    </tr>\n",
       "  </thead>\n",
       "  <tbody>\n",
       "    <tr>\n",
       "      <th>1</th>\n",
       "      <td>44107.49</td>\n",
       "      <td>1225208.056</td>\n",
       "      <td>lrc-usdt</td>\n",
       "      <td>okex</td>\n",
       "      <td>2018-12-10</td>\n",
       "    </tr>\n",
       "    <tr>\n",
       "      <th>12</th>\n",
       "      <td>85498.33</td>\n",
       "      <td>7013.809</td>\n",
       "      <td>gno-usd</td>\n",
       "      <td>kraken</td>\n",
       "      <td>2018-12-10</td>\n",
       "    </tr>\n",
       "    <tr>\n",
       "      <th>26</th>\n",
       "      <td>646292.56</td>\n",
       "      <td>2084814.710</td>\n",
       "      <td>zrx-usd</td>\n",
       "      <td>coinbase</td>\n",
       "      <td>2018-12-10</td>\n",
       "    </tr>\n",
       "    <tr>\n",
       "      <th>35</th>\n",
       "      <td>76289.25</td>\n",
       "      <td>244673.669</td>\n",
       "      <td>zrx-usdt</td>\n",
       "      <td>okex</td>\n",
       "      <td>2018-12-10</td>\n",
       "    </tr>\n",
       "    <tr>\n",
       "      <th>37</th>\n",
       "      <td>6730.28</td>\n",
       "      <td>21516.240</td>\n",
       "      <td>zrx-usdt</td>\n",
       "      <td>poloniex</td>\n",
       "      <td>2018-12-10</td>\n",
       "    </tr>\n",
       "  </tbody>\n",
       "</table>\n",
       "</div>"
      ],
      "text/plain": [
       "       volume       amount    symbol  exchange       date\n",
       "1    44107.49  1225208.056  lrc-usdt      okex 2018-12-10\n",
       "12   85498.33     7013.809   gno-usd    kraken 2018-12-10\n",
       "26  646292.56  2084814.710   zrx-usd  coinbase 2018-12-10\n",
       "35   76289.25   244673.669  zrx-usdt      okex 2018-12-10\n",
       "37    6730.28    21516.240  zrx-usdt  poloniex 2018-12-10"
      ]
     },
     "execution_count": 18,
     "metadata": {},
     "output_type": "execute_result"
    }
   ],
   "source": [
    "\n",
    "cvd_overall = data_nonzero_volume_notnull[['volume','amount','symbol','exchange','date']].copy()\n",
    "cvd_overall.head()"
   ]
  },
  {
   "cell_type": "markdown",
   "id": "896b6e3b",
   "metadata": {},
   "source": [
    "#### summation of volume and amount by symbol"
   ]
  },
  {
   "cell_type": "code",
   "execution_count": 19,
   "id": "152efb6c",
   "metadata": {
    "scrolled": true
   },
   "outputs": [
    {
     "name": "stdout",
     "output_type": "stream",
     "text": [
      "                  volume        amount\n",
      "symbol                                \n",
      "1inch-usd   1.827785e+09  4.631508e+08\n",
      "1inch-usdt  1.757154e+10  5.106449e+09\n",
      "aave-usd    1.141186e+10  3.335268e+07\n",
      "aave-usdt   4.245359e+10  1.469530e+08\n",
      "ada-usd     5.263083e+10  4.426803e+10\n",
      "*******\n",
      "volume    202\n",
      "amount    202\n",
      "dtype: int64\n"
     ]
    }
   ],
   "source": [
    "\n",
    "cvd_symbol = cvd_overall.groupby(['symbol']).sum()\n",
    "print(cvd_symbol.head())\n",
    "print('*******')\n",
    "print(cvd_symbol.count())"
   ]
  },
  {
   "cell_type": "code",
   "execution_count": 20,
   "id": "a6425acd",
   "metadata": {
    "scrolled": true
   },
   "outputs": [],
   "source": [
    "cvd_symbol.reset_index(level=0, inplace=True) #removing index"
   ]
  },
  {
   "cell_type": "code",
   "execution_count": 21,
   "id": "b059442b",
   "metadata": {},
   "outputs": [
    {
     "data": {
      "text/html": [
       "<div>\n",
       "<style scoped>\n",
       "    .dataframe tbody tr th:only-of-type {\n",
       "        vertical-align: middle;\n",
       "    }\n",
       "\n",
       "    .dataframe tbody tr th {\n",
       "        vertical-align: top;\n",
       "    }\n",
       "\n",
       "    .dataframe thead th {\n",
       "        text-align: right;\n",
       "    }\n",
       "</style>\n",
       "<table border=\"1\" class=\"dataframe\">\n",
       "  <thead>\n",
       "    <tr style=\"text-align: right;\">\n",
       "      <th></th>\n",
       "      <th>symbol</th>\n",
       "      <th>volume</th>\n",
       "      <th>amount</th>\n",
       "    </tr>\n",
       "  </thead>\n",
       "  <tbody>\n",
       "    <tr>\n",
       "      <th>0</th>\n",
       "      <td>1inch-usd</td>\n",
       "      <td>1.827785e+09</td>\n",
       "      <td>4.631508e+08</td>\n",
       "    </tr>\n",
       "    <tr>\n",
       "      <th>1</th>\n",
       "      <td>1inch-usdt</td>\n",
       "      <td>1.757154e+10</td>\n",
       "      <td>5.106449e+09</td>\n",
       "    </tr>\n",
       "    <tr>\n",
       "      <th>2</th>\n",
       "      <td>aave-usd</td>\n",
       "      <td>1.141186e+10</td>\n",
       "      <td>3.335268e+07</td>\n",
       "    </tr>\n",
       "    <tr>\n",
       "      <th>3</th>\n",
       "      <td>aave-usdt</td>\n",
       "      <td>4.245359e+10</td>\n",
       "      <td>1.469530e+08</td>\n",
       "    </tr>\n",
       "    <tr>\n",
       "      <th>4</th>\n",
       "      <td>ada-usd</td>\n",
       "      <td>5.263083e+10</td>\n",
       "      <td>4.426803e+10</td>\n",
       "    </tr>\n",
       "  </tbody>\n",
       "</table>\n",
       "</div>"
      ],
      "text/plain": [
       "       symbol        volume        amount\n",
       "0   1inch-usd  1.827785e+09  4.631508e+08\n",
       "1  1inch-usdt  1.757154e+10  5.106449e+09\n",
       "2    aave-usd  1.141186e+10  3.335268e+07\n",
       "3   aave-usdt  4.245359e+10  1.469530e+08\n",
       "4     ada-usd  5.263083e+10  4.426803e+10"
      ]
     },
     "execution_count": 21,
     "metadata": {},
     "output_type": "execute_result"
    }
   ],
   "source": [
    "cvd_symbol.head()"
   ]
  },
  {
   "cell_type": "code",
   "execution_count": 22,
   "id": "edbdce96",
   "metadata": {},
   "outputs": [
    {
     "data": {
      "text/html": [
       "<div>\n",
       "<style scoped>\n",
       "    .dataframe tbody tr th:only-of-type {\n",
       "        vertical-align: middle;\n",
       "    }\n",
       "\n",
       "    .dataframe tbody tr th {\n",
       "        vertical-align: top;\n",
       "    }\n",
       "\n",
       "    .dataframe thead th {\n",
       "        text-align: right;\n",
       "    }\n",
       "</style>\n",
       "<table border=\"1\" class=\"dataframe\">\n",
       "  <thead>\n",
       "    <tr style=\"text-align: right;\">\n",
       "      <th></th>\n",
       "      <th>symbol</th>\n",
       "      <th>volume</th>\n",
       "      <th>amount</th>\n",
       "    </tr>\n",
       "  </thead>\n",
       "  <tbody>\n",
       "    <tr>\n",
       "      <th>36</th>\n",
       "      <td>btc-usdt</td>\n",
       "      <td>1.852455e+12</td>\n",
       "      <td>1.039677e+08</td>\n",
       "    </tr>\n",
       "    <tr>\n",
       "      <th>75</th>\n",
       "      <td>eth-usdt</td>\n",
       "      <td>9.191745e+11</td>\n",
       "      <td>1.216442e+09</td>\n",
       "    </tr>\n",
       "    <tr>\n",
       "      <th>35</th>\n",
       "      <td>btc-usd</td>\n",
       "      <td>9.181689e+11</td>\n",
       "      <td>4.742012e+07</td>\n",
       "    </tr>\n",
       "    <tr>\n",
       "      <th>74</th>\n",
       "      <td>eth-usd</td>\n",
       "      <td>5.061135e+11</td>\n",
       "      <td>5.405818e+08</td>\n",
       "    </tr>\n",
       "    <tr>\n",
       "      <th>63</th>\n",
       "      <td>doge-usdt</td>\n",
       "      <td>3.896979e+11</td>\n",
       "      <td>2.899633e+12</td>\n",
       "    </tr>\n",
       "    <tr>\n",
       "      <th>189</th>\n",
       "      <td>xrp-usdt</td>\n",
       "      <td>3.158699e+11</td>\n",
       "      <td>5.322994e+11</td>\n",
       "    </tr>\n",
       "    <tr>\n",
       "      <th>29</th>\n",
       "      <td>bnb-usdt</td>\n",
       "      <td>3.116835e+11</td>\n",
       "      <td>2.843222e+09</td>\n",
       "    </tr>\n",
       "    <tr>\n",
       "      <th>39</th>\n",
       "      <td>busd-usdt</td>\n",
       "      <td>2.740025e+11</td>\n",
       "      <td>2.741523e+11</td>\n",
       "    </tr>\n",
       "    <tr>\n",
       "      <th>5</th>\n",
       "      <td>ada-usdt</td>\n",
       "      <td>2.066473e+11</td>\n",
       "      <td>3.648576e+11</td>\n",
       "    </tr>\n",
       "    <tr>\n",
       "      <th>105</th>\n",
       "      <td>ltc-usdt</td>\n",
       "      <td>1.690100e+11</td>\n",
       "      <td>1.500677e+09</td>\n",
       "    </tr>\n",
       "  </tbody>\n",
       "</table>\n",
       "</div>"
      ],
      "text/plain": [
       "        symbol        volume        amount\n",
       "36    btc-usdt  1.852455e+12  1.039677e+08\n",
       "75    eth-usdt  9.191745e+11  1.216442e+09\n",
       "35     btc-usd  9.181689e+11  4.742012e+07\n",
       "74     eth-usd  5.061135e+11  5.405818e+08\n",
       "63   doge-usdt  3.896979e+11  2.899633e+12\n",
       "189   xrp-usdt  3.158699e+11  5.322994e+11\n",
       "29    bnb-usdt  3.116835e+11  2.843222e+09\n",
       "39   busd-usdt  2.740025e+11  2.741523e+11\n",
       "5     ada-usdt  2.066473e+11  3.648576e+11\n",
       "105   ltc-usdt  1.690100e+11  1.500677e+09"
      ]
     },
     "execution_count": 22,
     "metadata": {},
     "output_type": "execute_result"
    }
   ],
   "source": [
    "cvd_symbol_10largest = cvd_symbol.nlargest(10, 'volume') #data frame for the top 10 coins by volume\n",
    "cvd_symbol_10largest.head(10)"
   ]
  },
  {
   "cell_type": "code",
   "execution_count": 77,
   "id": "05bccde9",
   "metadata": {},
   "outputs": [
    {
     "data": {
      "image/png": "[encoded data removed]",
      "text/plain": [
       "<Figure size 1440x720 with 1 Axes>"
      ]
     },
     "metadata": {
      "needs_background": "light"
     },
     "output_type": "display_data"
    }
   ],
   "source": [
    "#plotting graph for the above dataframe\n",
    "plt.plot(cvd_symbol_10largest['symbol'], cvd_symbol_10largest['volume'], color='red', marker='o')\n",
    "plt.title('Top 10 coins by volume', fontsize=14)\n",
    "plt.xlabel('Coin', fontsize=14)\n",
    "plt.ylabel('Volume', fontsize=14)\n",
    "plt.grid(False)\n",
    "plt.rcParams[\"figure.figsize\"] = (20,20)\n",
    "plt.show()"
   ]
  },
  {
   "cell_type": "markdown",
   "id": "10f031a7",
   "metadata": {},
   "source": [
    "### Coin value trends"
   ]
  },
  {
   "cell_type": "code",
   "execution_count": 24,
   "id": "747875a4",
   "metadata": {},
   "outputs": [
    {
     "name": "stdout",
     "output_type": "stream",
     "text": [
      "                         volume      amount\n",
      "symbol    date                             \n",
      "1inch-usd 2020-12-25  688956.44  299546.278\n",
      "          2020-12-26  368834.05  230521.281\n",
      "          2020-12-27  315502.71  300192.873\n",
      "          2020-12-28  214739.46  192591.444\n",
      "          2020-12-29  209758.50  235630.757\n",
      "*******\n",
      "volume    120790\n",
      "amount    120790\n",
      "dtype: int64\n"
     ]
    }
   ],
   "source": [
    "#trend of top 10 coins by volume\n",
    "cvd_date_symbol = cvd_overall.groupby(['symbol', 'date']).sum()\n",
    "print(cvd_date_symbol.head())\n",
    "print('*******')\n",
    "print(cvd_date_symbol.count())"
   ]
  },
  {
   "cell_type": "code",
   "execution_count": 25,
   "id": "6e1e8776",
   "metadata": {},
   "outputs": [
    {
     "data": {
      "text/html": [
       "<div>\n",
       "<style scoped>\n",
       "    .dataframe tbody tr th:only-of-type {\n",
       "        vertical-align: middle;\n",
       "    }\n",
       "\n",
       "    .dataframe tbody tr th {\n",
       "        vertical-align: top;\n",
       "    }\n",
       "\n",
       "    .dataframe thead th {\n",
       "        text-align: right;\n",
       "    }\n",
       "</style>\n",
       "<table border=\"1\" class=\"dataframe\">\n",
       "  <thead>\n",
       "    <tr style=\"text-align: right;\">\n",
       "      <th></th>\n",
       "      <th>date</th>\n",
       "      <th>symbol</th>\n",
       "      <th>volume</th>\n",
       "      <th>amount</th>\n",
       "    </tr>\n",
       "  </thead>\n",
       "  <tbody>\n",
       "    <tr>\n",
       "      <th>0</th>\n",
       "      <td>2020-12-25</td>\n",
       "      <td>1inch-usd</td>\n",
       "      <td>688956.44</td>\n",
       "      <td>299546.278</td>\n",
       "    </tr>\n",
       "    <tr>\n",
       "      <th>1</th>\n",
       "      <td>2020-12-26</td>\n",
       "      <td>1inch-usd</td>\n",
       "      <td>368834.05</td>\n",
       "      <td>230521.281</td>\n",
       "    </tr>\n",
       "    <tr>\n",
       "      <th>2</th>\n",
       "      <td>2020-12-27</td>\n",
       "      <td>1inch-usd</td>\n",
       "      <td>315502.71</td>\n",
       "      <td>300192.873</td>\n",
       "    </tr>\n",
       "    <tr>\n",
       "      <th>3</th>\n",
       "      <td>2020-12-28</td>\n",
       "      <td>1inch-usd</td>\n",
       "      <td>214739.46</td>\n",
       "      <td>192591.444</td>\n",
       "    </tr>\n",
       "    <tr>\n",
       "      <th>4</th>\n",
       "      <td>2020-12-29</td>\n",
       "      <td>1inch-usd</td>\n",
       "      <td>209758.50</td>\n",
       "      <td>235630.757</td>\n",
       "    </tr>\n",
       "  </tbody>\n",
       "</table>\n",
       "</div>"
      ],
      "text/plain": [
       "        date     symbol     volume      amount\n",
       "0 2020-12-25  1inch-usd  688956.44  299546.278\n",
       "1 2020-12-26  1inch-usd  368834.05  230521.281\n",
       "2 2020-12-27  1inch-usd  315502.71  300192.873\n",
       "3 2020-12-28  1inch-usd  214739.46  192591.444\n",
       "4 2020-12-29  1inch-usd  209758.50  235630.757"
      ]
     },
     "execution_count": 25,
     "metadata": {},
     "output_type": "execute_result"
    }
   ],
   "source": [
    "#removing indexes\n",
    "cvd_date_symbol.reset_index(level=0, inplace=True)\n",
    "cvd_date_symbol.reset_index(level=0, inplace=True)\n",
    "cvd_date_symbol.head()"
   ]
  },
  {
   "cell_type": "code",
   "execution_count": 26,
   "id": "ed37e128",
   "metadata": {},
   "outputs": [],
   "source": [
    "cvd_10largestcoins_set = set(cvd_symbol_10largest['symbol']) #creating set of top 10 coins for plotting the graph"
   ]
  },
  {
   "cell_type": "code",
   "execution_count": 27,
   "id": "611305a6",
   "metadata": {},
   "outputs": [
    {
     "data": {
      "text/plain": [
       "{'ada-usdt',\n",
       " 'bnb-usdt',\n",
       " 'btc-usd',\n",
       " 'btc-usdt',\n",
       " 'busd-usdt',\n",
       " 'doge-usdt',\n",
       " 'eth-usd',\n",
       " 'eth-usdt',\n",
       " 'ltc-usdt',\n",
       " 'xrp-usdt'}"
      ]
     },
     "execution_count": 27,
     "metadata": {},
     "output_type": "execute_result"
    }
   ],
   "source": [
    "cvd_10largestcoins_set"
   ]
  },
  {
   "cell_type": "code",
   "execution_count": 82,
   "id": "2052796d",
   "metadata": {},
   "outputs": [
    {
     "data": {
      "image/png": "[encoded data removed]",
      "text/plain": [
       "<Figure size 1440x720 with 1 Axes>"
      ]
     },
     "metadata": {
      "needs_background": "light"
     },
     "output_type": "display_data"
    }
   ],
   "source": [
    "#plotting the graph for coin value trend\n",
    "plt.rcParams[\"figure.figsize\"] = (20,10)\n",
    "plt.figure()\n",
    "for coin in cvd_10largestcoins_set:\n",
    "     subset_data = cvd_date_symbol[cvd_date_symbol['symbol'] == coin]\n",
    "     plt.plot(subset_data['date'], subset_data['volume'], label=coin)\n",
    "plt.title('Top 10 coins value trend', fontsize=14)     \n",
    "plt.ylabel('Volume', fontsize=14)\n",
    "plt.legend()\n",
    "plt.show()"
   ]
  },
  {
   "cell_type": "markdown",
   "id": "dfa4d076",
   "metadata": {},
   "source": [
    "### Busiest trading exchange by volume"
   ]
  },
  {
   "cell_type": "code",
   "execution_count": 31,
   "id": "07568550",
   "metadata": {},
   "outputs": [
    {
     "name": "stdout",
     "output_type": "stream",
     "text": [
      "                volume        amount\n",
      "exchange                            \n",
      "binance   5.197742e+12  2.342534e+13\n",
      "bitfinex  4.234506e+11  1.514295e+11\n",
      "bitflyer  1.523090e+08  2.154339e+04\n",
      "bitstamp  2.140488e+11  7.717207e+10\n",
      "bittrex   4.825765e+10  9.173104e+10\n",
      "*******\n",
      "volume    14\n",
      "amount    14\n",
      "dtype: int64\n"
     ]
    }
   ],
   "source": [
    "#create a data frame for exchange transactions by volume\n",
    "cvd_exchange = cvd_overall.groupby(['exchange']).sum()\n",
    "print(cvd_exchange.head())\n",
    "print('*******')\n",
    "print(cvd_exchange.count())"
   ]
  },
  {
   "cell_type": "code",
   "execution_count": 32,
   "id": "b4a085c2",
   "metadata": {},
   "outputs": [
    {
     "data": {
      "text/html": [
       "<div>\n",
       "<style scoped>\n",
       "    .dataframe tbody tr th:only-of-type {\n",
       "        vertical-align: middle;\n",
       "    }\n",
       "\n",
       "    .dataframe tbody tr th {\n",
       "        vertical-align: top;\n",
       "    }\n",
       "\n",
       "    .dataframe thead th {\n",
       "        text-align: right;\n",
       "    }\n",
       "</style>\n",
       "<table border=\"1\" class=\"dataframe\">\n",
       "  <thead>\n",
       "    <tr style=\"text-align: right;\">\n",
       "      <th></th>\n",
       "      <th>exchange</th>\n",
       "      <th>volume</th>\n",
       "      <th>amount</th>\n",
       "    </tr>\n",
       "  </thead>\n",
       "  <tbody>\n",
       "    <tr>\n",
       "      <th>0</th>\n",
       "      <td>binance</td>\n",
       "      <td>5.197742e+12</td>\n",
       "      <td>2.342534e+13</td>\n",
       "    </tr>\n",
       "    <tr>\n",
       "      <th>1</th>\n",
       "      <td>bitfinex</td>\n",
       "      <td>4.234506e+11</td>\n",
       "      <td>1.514295e+11</td>\n",
       "    </tr>\n",
       "    <tr>\n",
       "      <th>2</th>\n",
       "      <td>bitflyer</td>\n",
       "      <td>1.523090e+08</td>\n",
       "      <td>2.154339e+04</td>\n",
       "    </tr>\n",
       "    <tr>\n",
       "      <th>3</th>\n",
       "      <td>bitstamp</td>\n",
       "      <td>2.140488e+11</td>\n",
       "      <td>7.717207e+10</td>\n",
       "    </tr>\n",
       "    <tr>\n",
       "      <th>4</th>\n",
       "      <td>bittrex</td>\n",
       "      <td>4.825765e+10</td>\n",
       "      <td>9.173104e+10</td>\n",
       "    </tr>\n",
       "  </tbody>\n",
       "</table>\n",
       "</div>"
      ],
      "text/plain": [
       "   exchange        volume        amount\n",
       "0   binance  5.197742e+12  2.342534e+13\n",
       "1  bitfinex  4.234506e+11  1.514295e+11\n",
       "2  bitflyer  1.523090e+08  2.154339e+04\n",
       "3  bitstamp  2.140488e+11  7.717207e+10\n",
       "4   bittrex  4.825765e+10  9.173104e+10"
      ]
     },
     "execution_count": 32,
     "metadata": {},
     "output_type": "execute_result"
    }
   ],
   "source": [
    "cvd_exchange.reset_index(level=0, inplace=True) #removing the index\n",
    "cvd_exchange.head()"
   ]
  },
  {
   "cell_type": "code",
   "execution_count": 33,
   "id": "1e6f34cd",
   "metadata": {},
   "outputs": [
    {
     "data": {
      "text/html": [
       "<div>\n",
       "<style scoped>\n",
       "    .dataframe tbody tr th:only-of-type {\n",
       "        vertical-align: middle;\n",
       "    }\n",
       "\n",
       "    .dataframe tbody tr th {\n",
       "        vertical-align: top;\n",
       "    }\n",
       "\n",
       "    .dataframe thead th {\n",
       "        text-align: right;\n",
       "    }\n",
       "</style>\n",
       "<table border=\"1\" class=\"dataframe\">\n",
       "  <thead>\n",
       "    <tr style=\"text-align: right;\">\n",
       "      <th></th>\n",
       "      <th>exchange</th>\n",
       "      <th>volume</th>\n",
       "      <th>amount</th>\n",
       "    </tr>\n",
       "  </thead>\n",
       "  <tbody>\n",
       "    <tr>\n",
       "      <th>0</th>\n",
       "      <td>binance</td>\n",
       "      <td>5.197742e+12</td>\n",
       "      <td>2.342534e+13</td>\n",
       "    </tr>\n",
       "    <tr>\n",
       "      <th>12</th>\n",
       "      <td>okex</td>\n",
       "      <td>1.759211e+12</td>\n",
       "      <td>1.087221e+13</td>\n",
       "    </tr>\n",
       "    <tr>\n",
       "      <th>5</th>\n",
       "      <td>coinbase</td>\n",
       "      <td>9.610118e+11</td>\n",
       "      <td>3.736853e+11</td>\n",
       "    </tr>\n",
       "    <tr>\n",
       "      <th>1</th>\n",
       "      <td>bitfinex</td>\n",
       "      <td>4.234506e+11</td>\n",
       "      <td>1.514295e+11</td>\n",
       "    </tr>\n",
       "    <tr>\n",
       "      <th>6</th>\n",
       "      <td>ftx</td>\n",
       "      <td>3.365937e+11</td>\n",
       "      <td>8.638993e+10</td>\n",
       "    </tr>\n",
       "    <tr>\n",
       "      <th>9</th>\n",
       "      <td>kraken</td>\n",
       "      <td>3.204602e+11</td>\n",
       "      <td>1.774064e+11</td>\n",
       "    </tr>\n",
       "    <tr>\n",
       "      <th>3</th>\n",
       "      <td>bitstamp</td>\n",
       "      <td>2.140488e+11</td>\n",
       "      <td>7.717207e+10</td>\n",
       "    </tr>\n",
       "    <tr>\n",
       "      <th>10</th>\n",
       "      <td>kucoin</td>\n",
       "      <td>1.002032e+11</td>\n",
       "      <td>2.994203e+11</td>\n",
       "    </tr>\n",
       "    <tr>\n",
       "      <th>7</th>\n",
       "      <td>gemini</td>\n",
       "      <td>7.831362e+10</td>\n",
       "      <td>3.051287e+10</td>\n",
       "    </tr>\n",
       "    <tr>\n",
       "      <th>13</th>\n",
       "      <td>poloniex</td>\n",
       "      <td>5.310509e+10</td>\n",
       "      <td>6.810441e+11</td>\n",
       "    </tr>\n",
       "  </tbody>\n",
       "</table>\n",
       "</div>"
      ],
      "text/plain": [
       "    exchange        volume        amount\n",
       "0    binance  5.197742e+12  2.342534e+13\n",
       "12      okex  1.759211e+12  1.087221e+13\n",
       "5   coinbase  9.610118e+11  3.736853e+11\n",
       "1   bitfinex  4.234506e+11  1.514295e+11\n",
       "6        ftx  3.365937e+11  8.638993e+10\n",
       "9     kraken  3.204602e+11  1.774064e+11\n",
       "3   bitstamp  2.140488e+11  7.717207e+10\n",
       "10    kucoin  1.002032e+11  2.994203e+11\n",
       "7     gemini  7.831362e+10  3.051287e+10\n",
       "13  poloniex  5.310509e+10  6.810441e+11"
      ]
     },
     "execution_count": 33,
     "metadata": {},
     "output_type": "execute_result"
    }
   ],
   "source": [
    "cvd_exchange_10largest = cvd_exchange.nlargest(10, 'volume') #data frame with top 10 exchange \n",
    "cvd_exchange_10largest.head(10)"
   ]
  },
  {
   "cell_type": "markdown",
   "id": "43688988",
   "metadata": {},
   "source": [
    "#### plotting graph for 10 busiest exchanges from the above data frame"
   ]
  },
  {
   "cell_type": "code",
   "execution_count": 34,
   "id": "d97a26ad",
   "metadata": {},
   "outputs": [
    {
     "data": {
      "image/png": "[encoded data removed]",
      "text/plain": [
       "<Figure size 1440x720 with 1 Axes>"
      ]
     },
     "metadata": {
      "needs_background": "light"
     },
     "output_type": "display_data"
    }
   ],
   "source": [
    "plt.plot(cvd_exchange_10largest['exchange'], cvd_exchange_10largest['volume'], color='blue', marker='o')\n",
    "plt.title('Top 10 busiest trading exchange by volume', fontsize=14)\n",
    "plt.xlabel('Exchange', fontsize=14)\n",
    "plt.ylabel('Volume', fontsize=14)\n",
    "plt.grid(False)\n",
    "plt.rcParams[\"figure.figsize\"] = (20,2)\n",
    "plt.show()"
   ]
  },
  {
   "cell_type": "markdown",
   "id": "6c501525",
   "metadata": {},
   "source": [
    "### Busiest Trading Exchange Trends"
   ]
  },
  {
   "cell_type": "markdown",
   "id": "82273123",
   "metadata": {},
   "source": [
    "#### creating dataframe by exchange and date"
   ]
  },
  {
   "cell_type": "code",
   "execution_count": 35,
   "id": "8874490c",
   "metadata": {},
   "outputs": [
    {
     "name": "stdout",
     "output_type": "stream",
     "text": [
      "                           volume        amount\n",
      "exchange date                                  \n",
      "binance  2018-12-10  2.549046e+08  1.018393e+09\n",
      "         2018-12-11  2.162079e+08  7.873040e+08\n",
      "         2018-12-12  1.993654e+08  8.583529e+08\n",
      "         2018-12-13  2.269489e+08  7.577947e+08\n",
      "         2018-12-14  2.334772e+08  7.715654e+08\n",
      "*******\n",
      "volume    13013\n",
      "amount    13013\n",
      "dtype: int64\n"
     ]
    }
   ],
   "source": [
    "cvd_date_exchange = cvd_overall.groupby(['exchange', 'date']).sum()\n",
    "print(cvd_date_exchange.head())\n",
    "print('*******')\n",
    "print(cvd_date_exchange.count())"
   ]
  },
  {
   "cell_type": "markdown",
   "id": "0911dcd7",
   "metadata": {},
   "source": [
    "#### removing the indexes"
   ]
  },
  {
   "cell_type": "code",
   "execution_count": 36,
   "id": "de2f3882",
   "metadata": {},
   "outputs": [
    {
     "data": {
      "text/html": [
       "<div>\n",
       "<style scoped>\n",
       "    .dataframe tbody tr th:only-of-type {\n",
       "        vertical-align: middle;\n",
       "    }\n",
       "\n",
       "    .dataframe tbody tr th {\n",
       "        vertical-align: top;\n",
       "    }\n",
       "\n",
       "    .dataframe thead th {\n",
       "        text-align: right;\n",
       "    }\n",
       "</style>\n",
       "<table border=\"1\" class=\"dataframe\">\n",
       "  <thead>\n",
       "    <tr style=\"text-align: right;\">\n",
       "      <th></th>\n",
       "      <th>date</th>\n",
       "      <th>exchange</th>\n",
       "      <th>volume</th>\n",
       "      <th>amount</th>\n",
       "    </tr>\n",
       "  </thead>\n",
       "  <tbody>\n",
       "    <tr>\n",
       "      <th>0</th>\n",
       "      <td>2018-12-10</td>\n",
       "      <td>binance</td>\n",
       "      <td>2.549046e+08</td>\n",
       "      <td>1.018393e+09</td>\n",
       "    </tr>\n",
       "    <tr>\n",
       "      <th>1</th>\n",
       "      <td>2018-12-11</td>\n",
       "      <td>binance</td>\n",
       "      <td>2.162079e+08</td>\n",
       "      <td>7.873040e+08</td>\n",
       "    </tr>\n",
       "    <tr>\n",
       "      <th>2</th>\n",
       "      <td>2018-12-12</td>\n",
       "      <td>binance</td>\n",
       "      <td>1.993654e+08</td>\n",
       "      <td>8.583529e+08</td>\n",
       "    </tr>\n",
       "    <tr>\n",
       "      <th>3</th>\n",
       "      <td>2018-12-13</td>\n",
       "      <td>binance</td>\n",
       "      <td>2.269489e+08</td>\n",
       "      <td>7.577947e+08</td>\n",
       "    </tr>\n",
       "    <tr>\n",
       "      <th>4</th>\n",
       "      <td>2018-12-14</td>\n",
       "      <td>binance</td>\n",
       "      <td>2.334772e+08</td>\n",
       "      <td>7.715654e+08</td>\n",
       "    </tr>\n",
       "  </tbody>\n",
       "</table>\n",
       "</div>"
      ],
      "text/plain": [
       "        date exchange        volume        amount\n",
       "0 2018-12-10  binance  2.549046e+08  1.018393e+09\n",
       "1 2018-12-11  binance  2.162079e+08  7.873040e+08\n",
       "2 2018-12-12  binance  1.993654e+08  8.583529e+08\n",
       "3 2018-12-13  binance  2.269489e+08  7.577947e+08\n",
       "4 2018-12-14  binance  2.334772e+08  7.715654e+08"
      ]
     },
     "execution_count": 36,
     "metadata": {},
     "output_type": "execute_result"
    }
   ],
   "source": [
    "cvd_date_exchange.reset_index(level=0, inplace=True)\n",
    "cvd_date_exchange.reset_index(level=0, inplace=True)\n",
    "cvd_date_exchange.head()"
   ]
  },
  {
   "cell_type": "markdown",
   "id": "45746713",
   "metadata": {},
   "source": [
    "#### creating set of the top 10 exchange by volume"
   ]
  },
  {
   "cell_type": "code",
   "execution_count": 37,
   "id": "daceea82",
   "metadata": {},
   "outputs": [
    {
     "data": {
      "text/plain": [
       "{'binance',\n",
       " 'bitfinex',\n",
       " 'bitstamp',\n",
       " 'coinbase',\n",
       " 'ftx',\n",
       " 'gemini',\n",
       " 'kraken',\n",
       " 'kucoin',\n",
       " 'okex',\n",
       " 'poloniex'}"
      ]
     },
     "execution_count": 37,
     "metadata": {},
     "output_type": "execute_result"
    }
   ],
   "source": [
    "cvd_10largestexchange_set = set(cvd_exchange_10largest['exchange'])\n",
    "cvd_10largestexchange_set"
   ]
  },
  {
   "cell_type": "markdown",
   "id": "9835fc6b",
   "metadata": {},
   "source": [
    "#### plotting the graph for the above set"
   ]
  },
  {
   "cell_type": "code",
   "execution_count": 38,
   "id": "a2c36653",
   "metadata": {},
   "outputs": [
    {
     "data": {
      "image/png": "[encoded data removed]",
      "text/plain": [
       "<Figure size 1440x720 with 1 Axes>"
      ]
     },
     "metadata": {
      "needs_background": "light"
     },
     "output_type": "display_data"
    }
   ],
   "source": [
    "plt.rcParams[\"figure.figsize\"] = (20,10)\n",
    "plt.figure()\n",
    "for exchange in cvd_10largestexchange_set:\n",
    "     subset_data = cvd_date_exchange[cvd_date_exchange['exchange'] == exchange]\n",
    "     plt.plot(subset_data['date'], subset_data['volume'], label=exchange)\n",
    "plt.title('Volume distribution of top 10 busiest exchange', fontsize=14)     \n",
    "plt.legend()\n",
    "plt.show()"
   ]
  },
  {
   "cell_type": "markdown",
   "id": "757c12c8",
   "metadata": {},
   "source": [
    "### Price fluctuations of top 10 coins on Binance exchange (noted as the busiest exchange)\n",
    "\n"
   ]
  },
  {
   "cell_type": "code",
   "execution_count": 39,
   "id": "ff67c9b4",
   "metadata": {},
   "outputs": [
    {
     "data": {
      "text/html": [
       "<div>\n",
       "<style scoped>\n",
       "    .dataframe tbody tr th:only-of-type {\n",
       "        vertical-align: middle;\n",
       "    }\n",
       "\n",
       "    .dataframe tbody tr th {\n",
       "        vertical-align: top;\n",
       "    }\n",
       "\n",
       "    .dataframe thead th {\n",
       "        text-align: right;\n",
       "    }\n",
       "</style>\n",
       "<table border=\"1\" class=\"dataframe\">\n",
       "  <thead>\n",
       "    <tr style=\"text-align: right;\">\n",
       "      <th></th>\n",
       "      <th>symbol</th>\n",
       "      <th>price</th>\n",
       "      <th>date</th>\n",
       "      <th>exchange</th>\n",
       "    </tr>\n",
       "  </thead>\n",
       "  <tbody>\n",
       "    <tr>\n",
       "      <th>1</th>\n",
       "      <td>lrc-usdt</td>\n",
       "      <td>0.0360</td>\n",
       "      <td>2018-12-10</td>\n",
       "      <td>okex</td>\n",
       "    </tr>\n",
       "    <tr>\n",
       "      <th>12</th>\n",
       "      <td>gno-usd</td>\n",
       "      <td>12.1900</td>\n",
       "      <td>2018-12-10</td>\n",
       "      <td>kraken</td>\n",
       "    </tr>\n",
       "    <tr>\n",
       "      <th>26</th>\n",
       "      <td>zrx-usd</td>\n",
       "      <td>0.3100</td>\n",
       "      <td>2018-12-10</td>\n",
       "      <td>coinbase</td>\n",
       "    </tr>\n",
       "    <tr>\n",
       "      <th>35</th>\n",
       "      <td>zrx-usdt</td>\n",
       "      <td>0.3118</td>\n",
       "      <td>2018-12-10</td>\n",
       "      <td>okex</td>\n",
       "    </tr>\n",
       "    <tr>\n",
       "      <th>37</th>\n",
       "      <td>zrx-usdt</td>\n",
       "      <td>0.3128</td>\n",
       "      <td>2018-12-10</td>\n",
       "      <td>poloniex</td>\n",
       "    </tr>\n",
       "  </tbody>\n",
       "</table>\n",
       "</div>"
      ],
      "text/plain": [
       "      symbol    price       date  exchange\n",
       "1   lrc-usdt   0.0360 2018-12-10      okex\n",
       "12   gno-usd  12.1900 2018-12-10    kraken\n",
       "26   zrx-usd   0.3100 2018-12-10  coinbase\n",
       "35  zrx-usdt   0.3118 2018-12-10      okex\n",
       "37  zrx-usdt   0.3128 2018-12-10  poloniex"
      ]
     },
     "execution_count": 39,
     "metadata": {},
     "output_type": "execute_result"
    }
   ],
   "source": [
    "priceflux = data_nonzero_volume_notnull[['symbol','price','date','exchange']].copy()\n",
    "priceflux.head()"
   ]
  },
  {
   "cell_type": "markdown",
   "id": "fbc5f248",
   "metadata": {},
   "source": [
    "#### creating a data frame with data only for binance exchange"
   ]
  },
  {
   "cell_type": "code",
   "execution_count": 40,
   "id": "753da25a",
   "metadata": {},
   "outputs": [
    {
     "data": {
      "text/html": [
       "<div>\n",
       "<style scoped>\n",
       "    .dataframe tbody tr th:only-of-type {\n",
       "        vertical-align: middle;\n",
       "    }\n",
       "\n",
       "    .dataframe tbody tr th {\n",
       "        vertical-align: top;\n",
       "    }\n",
       "\n",
       "    .dataframe thead th {\n",
       "        text-align: right;\n",
       "    }\n",
       "</style>\n",
       "<table border=\"1\" class=\"dataframe\">\n",
       "  <thead>\n",
       "    <tr style=\"text-align: right;\">\n",
       "      <th></th>\n",
       "      <th>symbol</th>\n",
       "      <th>price</th>\n",
       "      <th>date</th>\n",
       "      <th>exchange</th>\n",
       "    </tr>\n",
       "  </thead>\n",
       "  <tbody>\n",
       "    <tr>\n",
       "      <th>130</th>\n",
       "      <td>ont-usdt</td>\n",
       "      <td>0.5340</td>\n",
       "      <td>2018-12-10</td>\n",
       "      <td>binance</td>\n",
       "    </tr>\n",
       "    <tr>\n",
       "      <th>371</th>\n",
       "      <td>eos-usdt</td>\n",
       "      <td>1.9050</td>\n",
       "      <td>2018-12-10</td>\n",
       "      <td>binance</td>\n",
       "    </tr>\n",
       "    <tr>\n",
       "      <th>382</th>\n",
       "      <td>xlm-usdt</td>\n",
       "      <td>0.1155</td>\n",
       "      <td>2018-12-10</td>\n",
       "      <td>binance</td>\n",
       "    </tr>\n",
       "    <tr>\n",
       "      <th>434</th>\n",
       "      <td>miota-usdt</td>\n",
       "      <td>0.2270</td>\n",
       "      <td>2018-12-10</td>\n",
       "      <td>binance</td>\n",
       "    </tr>\n",
       "    <tr>\n",
       "      <th>435</th>\n",
       "      <td>bsv-usdt</td>\n",
       "      <td>93.8200</td>\n",
       "      <td>2018-12-10</td>\n",
       "      <td>binance</td>\n",
       "    </tr>\n",
       "  </tbody>\n",
       "</table>\n",
       "</div>"
      ],
      "text/plain": [
       "         symbol    price       date exchange\n",
       "130    ont-usdt   0.5340 2018-12-10  binance\n",
       "371    eos-usdt   1.9050 2018-12-10  binance\n",
       "382    xlm-usdt   0.1155 2018-12-10  binance\n",
       "434  miota-usdt   0.2270 2018-12-10  binance\n",
       "435    bsv-usdt  93.8200 2018-12-10  binance"
      ]
     },
     "execution_count": 40,
     "metadata": {},
     "output_type": "execute_result"
    }
   ],
   "source": [
    "priceflux_binance = priceflux[priceflux['exchange'] == 'binance']\n",
    "priceflux_binance.head()"
   ]
  },
  {
   "cell_type": "markdown",
   "id": "3e4abcd3",
   "metadata": {},
   "source": [
    "#### plotting the graph for the top 10 coins from the above data frame by price"
   ]
  },
  {
   "cell_type": "code",
   "execution_count": 41,
   "id": "df89b336",
   "metadata": {},
   "outputs": [
    {
     "data": {
      "image/png": "[encoded data removed]",
      "text/plain": [
       "<Figure size 1440x720 with 1 Axes>"
      ]
     },
     "metadata": {
      "needs_background": "light"
     },
     "output_type": "display_data"
    }
   ],
   "source": [
    "plt.rcParams[\"figure.figsize\"] = (20,10)\n",
    "plt.figure()\n",
    "for coin in cvd_10largestcoins_set:\n",
    "     subset_data = priceflux_binance[priceflux_binance['symbol'] == coin]\n",
    "     plt.plot(subset_data['date'], subset_data['price'], label=coin)\n",
    "plt.title('Price fluctuation of top 10 coins in Binance exchange', fontsize=14)     \n",
    "plt.legend()\n",
    "plt.show()"
   ]
  },
  {
   "cell_type": "markdown",
   "id": "55462c02",
   "metadata": {},
   "source": [
    "## Liquidity\n",
    "\n",
    "Liquidity is used to as a metric to know how quickly an asset can be converted into cash.\n",
    "It can be calculated by total trading volume of the coin per day divided by the price of the coin that day.\n",
    "\n",
    "https://3commastutorials.medium.com/how-to-choose-a-coin-cryptocurrency-liquidity-a27400b77951#:~:text=In%20order%20to%20estimate%20liquidity,turnover%20of%20BTC%20per%20day."
   ]
  },
  {
   "cell_type": "code",
   "execution_count": 42,
   "id": "3296bb10",
   "metadata": {},
   "outputs": [],
   "source": [
    "liquidity = data_nonzero_volume_notnull[['symbol','volume','amount','exchange','price','date']].copy()"
   ]
  },
  {
   "cell_type": "code",
   "execution_count": 43,
   "id": "469e1373",
   "metadata": {},
   "outputs": [
    {
     "data": {
      "text/html": [
       "<div>\n",
       "<style scoped>\n",
       "    .dataframe tbody tr th:only-of-type {\n",
       "        vertical-align: middle;\n",
       "    }\n",
       "\n",
       "    .dataframe tbody tr th {\n",
       "        vertical-align: top;\n",
       "    }\n",
       "\n",
       "    .dataframe thead th {\n",
       "        text-align: right;\n",
       "    }\n",
       "</style>\n",
       "<table border=\"1\" class=\"dataframe\">\n",
       "  <thead>\n",
       "    <tr style=\"text-align: right;\">\n",
       "      <th></th>\n",
       "      <th>symbol</th>\n",
       "      <th>volume</th>\n",
       "      <th>amount</th>\n",
       "      <th>exchange</th>\n",
       "      <th>price</th>\n",
       "      <th>date</th>\n",
       "    </tr>\n",
       "  </thead>\n",
       "  <tbody>\n",
       "    <tr>\n",
       "      <th>1</th>\n",
       "      <td>lrc-usdt</td>\n",
       "      <td>44107.49</td>\n",
       "      <td>1225208.056</td>\n",
       "      <td>okex</td>\n",
       "      <td>0.0360</td>\n",
       "      <td>2018-12-10</td>\n",
       "    </tr>\n",
       "    <tr>\n",
       "      <th>12</th>\n",
       "      <td>gno-usd</td>\n",
       "      <td>85498.33</td>\n",
       "      <td>7013.809</td>\n",
       "      <td>kraken</td>\n",
       "      <td>12.1900</td>\n",
       "      <td>2018-12-10</td>\n",
       "    </tr>\n",
       "    <tr>\n",
       "      <th>26</th>\n",
       "      <td>zrx-usd</td>\n",
       "      <td>646292.56</td>\n",
       "      <td>2084814.710</td>\n",
       "      <td>coinbase</td>\n",
       "      <td>0.3100</td>\n",
       "      <td>2018-12-10</td>\n",
       "    </tr>\n",
       "    <tr>\n",
       "      <th>35</th>\n",
       "      <td>zrx-usdt</td>\n",
       "      <td>76289.25</td>\n",
       "      <td>244673.669</td>\n",
       "      <td>okex</td>\n",
       "      <td>0.3118</td>\n",
       "      <td>2018-12-10</td>\n",
       "    </tr>\n",
       "    <tr>\n",
       "      <th>37</th>\n",
       "      <td>zrx-usdt</td>\n",
       "      <td>6730.28</td>\n",
       "      <td>21516.240</td>\n",
       "      <td>poloniex</td>\n",
       "      <td>0.3128</td>\n",
       "      <td>2018-12-10</td>\n",
       "    </tr>\n",
       "  </tbody>\n",
       "</table>\n",
       "</div>"
      ],
      "text/plain": [
       "      symbol     volume       amount  exchange    price       date\n",
       "1   lrc-usdt   44107.49  1225208.056      okex   0.0360 2018-12-10\n",
       "12   gno-usd   85498.33     7013.809    kraken  12.1900 2018-12-10\n",
       "26   zrx-usd  646292.56  2084814.710  coinbase   0.3100 2018-12-10\n",
       "35  zrx-usdt   76289.25   244673.669      okex   0.3118 2018-12-10\n",
       "37  zrx-usdt    6730.28    21516.240  poloniex   0.3128 2018-12-10"
      ]
     },
     "execution_count": 43,
     "metadata": {},
     "output_type": "execute_result"
    }
   ],
   "source": [
    "liquidity.head()"
   ]
  },
  {
   "cell_type": "markdown",
   "id": "29419fc6",
   "metadata": {},
   "source": [
    "#### creating a new variable 'liquidity' which is volume/price"
   ]
  },
  {
   "cell_type": "code",
   "execution_count": 44,
   "id": "ad444b3a",
   "metadata": {},
   "outputs": [],
   "source": [
    "liquidity = liquidity.assign(liquidity = liquidity['volume']/liquidity['price'])"
   ]
  },
  {
   "cell_type": "code",
   "execution_count": 45,
   "id": "4dc9f67f",
   "metadata": {},
   "outputs": [
    {
     "data": {
      "text/html": [
       "<div>\n",
       "<style scoped>\n",
       "    .dataframe tbody tr th:only-of-type {\n",
       "        vertical-align: middle;\n",
       "    }\n",
       "\n",
       "    .dataframe tbody tr th {\n",
       "        vertical-align: top;\n",
       "    }\n",
       "\n",
       "    .dataframe thead th {\n",
       "        text-align: right;\n",
       "    }\n",
       "</style>\n",
       "<table border=\"1\" class=\"dataframe\">\n",
       "  <thead>\n",
       "    <tr style=\"text-align: right;\">\n",
       "      <th></th>\n",
       "      <th>symbol</th>\n",
       "      <th>volume</th>\n",
       "      <th>amount</th>\n",
       "      <th>exchange</th>\n",
       "      <th>price</th>\n",
       "      <th>date</th>\n",
       "      <th>liquidity</th>\n",
       "    </tr>\n",
       "  </thead>\n",
       "  <tbody>\n",
       "    <tr>\n",
       "      <th>1</th>\n",
       "      <td>lrc-usdt</td>\n",
       "      <td>44107.49</td>\n",
       "      <td>1225208.056</td>\n",
       "      <td>okex</td>\n",
       "      <td>0.0360</td>\n",
       "      <td>2018-12-10</td>\n",
       "      <td>1.225208e+06</td>\n",
       "    </tr>\n",
       "    <tr>\n",
       "      <th>12</th>\n",
       "      <td>gno-usd</td>\n",
       "      <td>85498.33</td>\n",
       "      <td>7013.809</td>\n",
       "      <td>kraken</td>\n",
       "      <td>12.1900</td>\n",
       "      <td>2018-12-10</td>\n",
       "      <td>7.013809e+03</td>\n",
       "    </tr>\n",
       "    <tr>\n",
       "      <th>26</th>\n",
       "      <td>zrx-usd</td>\n",
       "      <td>646292.56</td>\n",
       "      <td>2084814.710</td>\n",
       "      <td>coinbase</td>\n",
       "      <td>0.3100</td>\n",
       "      <td>2018-12-10</td>\n",
       "      <td>2.084815e+06</td>\n",
       "    </tr>\n",
       "    <tr>\n",
       "      <th>35</th>\n",
       "      <td>zrx-usdt</td>\n",
       "      <td>76289.25</td>\n",
       "      <td>244673.669</td>\n",
       "      <td>okex</td>\n",
       "      <td>0.3118</td>\n",
       "      <td>2018-12-10</td>\n",
       "      <td>2.446737e+05</td>\n",
       "    </tr>\n",
       "    <tr>\n",
       "      <th>37</th>\n",
       "      <td>zrx-usdt</td>\n",
       "      <td>6730.28</td>\n",
       "      <td>21516.240</td>\n",
       "      <td>poloniex</td>\n",
       "      <td>0.3128</td>\n",
       "      <td>2018-12-10</td>\n",
       "      <td>2.151624e+04</td>\n",
       "    </tr>\n",
       "  </tbody>\n",
       "</table>\n",
       "</div>"
      ],
      "text/plain": [
       "      symbol     volume       amount  exchange    price       date  \\\n",
       "1   lrc-usdt   44107.49  1225208.056      okex   0.0360 2018-12-10   \n",
       "12   gno-usd   85498.33     7013.809    kraken  12.1900 2018-12-10   \n",
       "26   zrx-usd  646292.56  2084814.710  coinbase   0.3100 2018-12-10   \n",
       "35  zrx-usdt   76289.25   244673.669      okex   0.3118 2018-12-10   \n",
       "37  zrx-usdt    6730.28    21516.240  poloniex   0.3128 2018-12-10   \n",
       "\n",
       "       liquidity  \n",
       "1   1.225208e+06  \n",
       "12  7.013809e+03  \n",
       "26  2.084815e+06  \n",
       "35  2.446737e+05  \n",
       "37  2.151624e+04  "
      ]
     },
     "execution_count": 45,
     "metadata": {},
     "output_type": "execute_result"
    }
   ],
   "source": [
    "liquidity.head()"
   ]
  },
  {
   "cell_type": "markdown",
   "id": "d518d8b9",
   "metadata": {},
   "source": [
    "#### created a dataframe by grouping the liquidity dataframe by symbol and date"
   ]
  },
  {
   "cell_type": "code",
   "execution_count": 46,
   "id": "ab64b6f2",
   "metadata": {},
   "outputs": [],
   "source": [
    "liquidity_grouped = liquidity.groupby(['symbol','date']).median()"
   ]
  },
  {
   "cell_type": "code",
   "execution_count": 47,
   "id": "2039a4e7",
   "metadata": {},
   "outputs": [
    {
     "data": {
      "text/html": [
       "<div>\n",
       "<style scoped>\n",
       "    .dataframe tbody tr th:only-of-type {\n",
       "        vertical-align: middle;\n",
       "    }\n",
       "\n",
       "    .dataframe tbody tr th {\n",
       "        vertical-align: top;\n",
       "    }\n",
       "\n",
       "    .dataframe thead th {\n",
       "        text-align: right;\n",
       "    }\n",
       "</style>\n",
       "<table border=\"1\" class=\"dataframe\">\n",
       "  <thead>\n",
       "    <tr style=\"text-align: right;\">\n",
       "      <th></th>\n",
       "      <th></th>\n",
       "      <th>volume</th>\n",
       "      <th>amount</th>\n",
       "      <th>price</th>\n",
       "      <th>liquidity</th>\n",
       "    </tr>\n",
       "    <tr>\n",
       "      <th>symbol</th>\n",
       "      <th>date</th>\n",
       "      <th></th>\n",
       "      <th></th>\n",
       "      <th></th>\n",
       "      <th></th>\n",
       "    </tr>\n",
       "  </thead>\n",
       "  <tbody>\n",
       "    <tr>\n",
       "      <th rowspan=\"5\" valign=\"top\">1inch-usd</th>\n",
       "      <th>2020-12-25</th>\n",
       "      <td>688956.44</td>\n",
       "      <td>299546.278</td>\n",
       "      <td>2.3000</td>\n",
       "      <td>299546.278261</td>\n",
       "    </tr>\n",
       "    <tr>\n",
       "      <th>2020-12-26</th>\n",
       "      <td>368834.05</td>\n",
       "      <td>230521.281</td>\n",
       "      <td>1.6000</td>\n",
       "      <td>230521.281250</td>\n",
       "    </tr>\n",
       "    <tr>\n",
       "      <th>2020-12-27</th>\n",
       "      <td>315502.71</td>\n",
       "      <td>300192.873</td>\n",
       "      <td>1.0510</td>\n",
       "      <td>300192.873454</td>\n",
       "    </tr>\n",
       "    <tr>\n",
       "      <th>2020-12-28</th>\n",
       "      <td>214739.46</td>\n",
       "      <td>192591.444</td>\n",
       "      <td>1.1150</td>\n",
       "      <td>192591.443946</td>\n",
       "    </tr>\n",
       "    <tr>\n",
       "      <th>2020-12-29</th>\n",
       "      <td>209758.50</td>\n",
       "      <td>235630.757</td>\n",
       "      <td>0.8902</td>\n",
       "      <td>235630.757133</td>\n",
       "    </tr>\n",
       "  </tbody>\n",
       "</table>\n",
       "</div>"
      ],
      "text/plain": [
       "                         volume      amount   price      liquidity\n",
       "symbol    date                                                    \n",
       "1inch-usd 2020-12-25  688956.44  299546.278  2.3000  299546.278261\n",
       "          2020-12-26  368834.05  230521.281  1.6000  230521.281250\n",
       "          2020-12-27  315502.71  300192.873  1.0510  300192.873454\n",
       "          2020-12-28  214739.46  192591.444  1.1150  192591.443946\n",
       "          2020-12-29  209758.50  235630.757  0.8902  235630.757133"
      ]
     },
     "execution_count": 47,
     "metadata": {},
     "output_type": "execute_result"
    }
   ],
   "source": [
    "liquidity_grouped.head()"
   ]
  },
  {
   "cell_type": "markdown",
   "id": "fa4e544a",
   "metadata": {},
   "source": [
    "#### removing the indexes"
   ]
  },
  {
   "cell_type": "code",
   "execution_count": 48,
   "id": "30f2d87c",
   "metadata": {},
   "outputs": [],
   "source": [
    "liquidity_grouped.reset_index(level=0, inplace=True)\n",
    "liquidity_grouped.reset_index(level=0, inplace=True)"
   ]
  },
  {
   "cell_type": "code",
   "execution_count": 49,
   "id": "fe700c5e",
   "metadata": {},
   "outputs": [
    {
     "data": {
      "text/html": [
       "<div>\n",
       "<style scoped>\n",
       "    .dataframe tbody tr th:only-of-type {\n",
       "        vertical-align: middle;\n",
       "    }\n",
       "\n",
       "    .dataframe tbody tr th {\n",
       "        vertical-align: top;\n",
       "    }\n",
       "\n",
       "    .dataframe thead th {\n",
       "        text-align: right;\n",
       "    }\n",
       "</style>\n",
       "<table border=\"1\" class=\"dataframe\">\n",
       "  <thead>\n",
       "    <tr style=\"text-align: right;\">\n",
       "      <th></th>\n",
       "      <th>date</th>\n",
       "      <th>symbol</th>\n",
       "      <th>volume</th>\n",
       "      <th>amount</th>\n",
       "      <th>price</th>\n",
       "      <th>liquidity</th>\n",
       "    </tr>\n",
       "  </thead>\n",
       "  <tbody>\n",
       "    <tr>\n",
       "      <th>0</th>\n",
       "      <td>2020-12-25</td>\n",
       "      <td>1inch-usd</td>\n",
       "      <td>688956.44</td>\n",
       "      <td>299546.278</td>\n",
       "      <td>2.3000</td>\n",
       "      <td>299546.278261</td>\n",
       "    </tr>\n",
       "    <tr>\n",
       "      <th>1</th>\n",
       "      <td>2020-12-26</td>\n",
       "      <td>1inch-usd</td>\n",
       "      <td>368834.05</td>\n",
       "      <td>230521.281</td>\n",
       "      <td>1.6000</td>\n",
       "      <td>230521.281250</td>\n",
       "    </tr>\n",
       "    <tr>\n",
       "      <th>2</th>\n",
       "      <td>2020-12-27</td>\n",
       "      <td>1inch-usd</td>\n",
       "      <td>315502.71</td>\n",
       "      <td>300192.873</td>\n",
       "      <td>1.0510</td>\n",
       "      <td>300192.873454</td>\n",
       "    </tr>\n",
       "    <tr>\n",
       "      <th>3</th>\n",
       "      <td>2020-12-28</td>\n",
       "      <td>1inch-usd</td>\n",
       "      <td>214739.46</td>\n",
       "      <td>192591.444</td>\n",
       "      <td>1.1150</td>\n",
       "      <td>192591.443946</td>\n",
       "    </tr>\n",
       "    <tr>\n",
       "      <th>4</th>\n",
       "      <td>2020-12-29</td>\n",
       "      <td>1inch-usd</td>\n",
       "      <td>209758.50</td>\n",
       "      <td>235630.757</td>\n",
       "      <td>0.8902</td>\n",
       "      <td>235630.757133</td>\n",
       "    </tr>\n",
       "  </tbody>\n",
       "</table>\n",
       "</div>"
      ],
      "text/plain": [
       "        date     symbol     volume      amount   price      liquidity\n",
       "0 2020-12-25  1inch-usd  688956.44  299546.278  2.3000  299546.278261\n",
       "1 2020-12-26  1inch-usd  368834.05  230521.281  1.6000  230521.281250\n",
       "2 2020-12-27  1inch-usd  315502.71  300192.873  1.0510  300192.873454\n",
       "3 2020-12-28  1inch-usd  214739.46  192591.444  1.1150  192591.443946\n",
       "4 2020-12-29  1inch-usd  209758.50  235630.757  0.8902  235630.757133"
      ]
     },
     "execution_count": 49,
     "metadata": {},
     "output_type": "execute_result"
    }
   ],
   "source": [
    "liquidity_grouped.head()"
   ]
  },
  {
   "cell_type": "markdown",
   "id": "afe05958",
   "metadata": {},
   "source": [
    "### Top 10 coins by market capitalization (Refer: https://coinmarketcap.com/)"
   ]
  },
  {
   "cell_type": "code",
   "execution_count": 51,
   "id": "8b4b47cc",
   "metadata": {},
   "outputs": [],
   "source": [
    "liquidity_coin_set = {'btc-usdt','eth-usdt','ada-usdt','bnb-usdt','xrp-usdt','sol-usdt','usdc-usdt','dot-usdt','uni-usdt','doge-usdt'}"
   ]
  },
  {
   "cell_type": "code",
   "execution_count": 52,
   "id": "e16fa2bb",
   "metadata": {},
   "outputs": [
    {
     "data": {
      "text/plain": [
       "{'ada-usdt',\n",
       " 'bnb-usdt',\n",
       " 'btc-usdt',\n",
       " 'doge-usdt',\n",
       " 'dot-usdt',\n",
       " 'eth-usdt',\n",
       " 'sol-usdt',\n",
       " 'uni-usdt',\n",
       " 'usdc-usdt',\n",
       " 'xrp-usdt'}"
      ]
     },
     "execution_count": 52,
     "metadata": {},
     "output_type": "execute_result"
    }
   ],
   "source": [
    "liquidity_coin_set"
   ]
  },
  {
   "cell_type": "markdown",
   "id": "a7919b97",
   "metadata": {},
   "source": [
    "#### plotting the graph for liquidity history of top 10 coins by market capitalization across all exchanges"
   ]
  },
  {
   "cell_type": "code",
   "execution_count": 83,
   "id": "3336a913",
   "metadata": {},
   "outputs": [
    {
     "data": {
      "image/png": "[encoded data removed]",
      "text/plain": [
       "<Figure size 1440x720 with 1 Axes>"
      ]
     },
     "metadata": {
      "needs_background": "light"
     },
     "output_type": "display_data"
    }
   ],
   "source": [
    "plt.rcParams[\"figure.figsize\"] = (20,10)\n",
    "plt.figure()\n",
    "\n",
    "for coin in liquidity_coin_set:\n",
    "     subset_data = liquidity_grouped[liquidity_grouped['symbol'] == coin]\n",
    "     plt.plot(subset_data['date'], subset_data['liquidity'], label=coin)\n",
    "plt.title('Liquidity history of top 10 coins by market capitalization', fontsize=14) \n",
    "plt.ylabel('Liquidity', fontsize=14)\n",
    "plt.legend()\n",
    "plt.show()"
   ]
  },
  {
   "cell_type": "markdown",
   "id": "48bfd87d",
   "metadata": {},
   "source": [
    "## Btc-usdt price prediction on Binance exchange"
   ]
  },
  {
   "cell_type": "code",
   "execution_count": 57,
   "id": "3442fd5e",
   "metadata": {},
   "outputs": [],
   "source": [
    "from keras.models import Sequential\n",
    "from keras.layers import Dense, LSTM\n",
    "import math\n",
    "from sklearn.preprocessing import MinMaxScaler"
   ]
  },
  {
   "cell_type": "code",
   "execution_count": 58,
   "id": "b6dd7b11",
   "metadata": {},
   "outputs": [],
   "source": [
    "btc_binance_data = data_nonzero_volume_notnull[(data_nonzero_volume_notnull['symbol'] == 'btc-usdt') & (data_nonzero_volume_notnull['exchange'] == 'binance')]"
   ]
  },
  {
   "cell_type": "code",
   "execution_count": 59,
   "id": "5feda001",
   "metadata": {},
   "outputs": [
    {
     "data": {
      "text/html": [
       "<div>\n",
       "<style scoped>\n",
       "    .dataframe tbody tr th:only-of-type {\n",
       "        vertical-align: middle;\n",
       "    }\n",
       "\n",
       "    .dataframe tbody tr th {\n",
       "        vertical-align: top;\n",
       "    }\n",
       "\n",
       "    .dataframe thead th {\n",
       "        text-align: right;\n",
       "    }\n",
       "</style>\n",
       "<table border=\"1\" class=\"dataframe\">\n",
       "  <thead>\n",
       "    <tr style=\"text-align: right;\">\n",
       "      <th></th>\n",
       "      <th>id</th>\n",
       "      <th>created_at</th>\n",
       "      <th>open</th>\n",
       "      <th>high</th>\n",
       "      <th>low</th>\n",
       "      <th>price</th>\n",
       "      <th>volume</th>\n",
       "      <th>amount</th>\n",
       "      <th>symbol</th>\n",
       "      <th>exchange</th>\n",
       "      <th>timestamp</th>\n",
       "      <th>date</th>\n",
       "    </tr>\n",
       "  </thead>\n",
       "  <tbody>\n",
       "    <tr>\n",
       "      <th>776</th>\n",
       "      <td>91138</td>\n",
       "      <td>2021-09-12 03:42:30</td>\n",
       "      <td>3545.37</td>\n",
       "      <td>3610.0</td>\n",
       "      <td>3370.11</td>\n",
       "      <td>3432.88</td>\n",
       "      <td>1.306914e+08</td>\n",
       "      <td>38070.472</td>\n",
       "      <td>btc-usdt</td>\n",
       "      <td>binance</td>\n",
       "      <td>1544400000000</td>\n",
       "      <td>2018-12-10</td>\n",
       "    </tr>\n",
       "    <tr>\n",
       "      <th>1008</th>\n",
       "      <td>91139</td>\n",
       "      <td>2021-09-12 03:42:30</td>\n",
       "      <td>3432.88</td>\n",
       "      <td>3463.5</td>\n",
       "      <td>3324.32</td>\n",
       "      <td>3380.39</td>\n",
       "      <td>1.150706e+08</td>\n",
       "      <td>34040.626</td>\n",
       "      <td>btc-usdt</td>\n",
       "      <td>binance</td>\n",
       "      <td>1544486400000</td>\n",
       "      <td>2018-12-11</td>\n",
       "    </tr>\n",
       "    <tr>\n",
       "      <th>1757</th>\n",
       "      <td>91140</td>\n",
       "      <td>2021-09-12 03:42:30</td>\n",
       "      <td>3380.39</td>\n",
       "      <td>3492.0</td>\n",
       "      <td>3350.00</td>\n",
       "      <td>3445.00</td>\n",
       "      <td>1.078230e+08</td>\n",
       "      <td>31298.412</td>\n",
       "      <td>btc-usdt</td>\n",
       "      <td>binance</td>\n",
       "      <td>1544572800000</td>\n",
       "      <td>2018-12-12</td>\n",
       "    </tr>\n",
       "    <tr>\n",
       "      <th>2732</th>\n",
       "      <td>91141</td>\n",
       "      <td>2021-09-12 03:42:30</td>\n",
       "      <td>3445.00</td>\n",
       "      <td>3460.0</td>\n",
       "      <td>3255.50</td>\n",
       "      <td>3302.06</td>\n",
       "      <td>1.262094e+08</td>\n",
       "      <td>38221.426</td>\n",
       "      <td>btc-usdt</td>\n",
       "      <td>binance</td>\n",
       "      <td>1544659200000</td>\n",
       "      <td>2018-12-13</td>\n",
       "    </tr>\n",
       "    <tr>\n",
       "      <th>3704</th>\n",
       "      <td>91142</td>\n",
       "      <td>2021-09-12 03:42:30</td>\n",
       "      <td>3302.06</td>\n",
       "      <td>3335.0</td>\n",
       "      <td>3177.00</td>\n",
       "      <td>3224.17</td>\n",
       "      <td>1.335645e+08</td>\n",
       "      <td>41425.998</td>\n",
       "      <td>btc-usdt</td>\n",
       "      <td>binance</td>\n",
       "      <td>1544745600000</td>\n",
       "      <td>2018-12-14</td>\n",
       "    </tr>\n",
       "  </tbody>\n",
       "</table>\n",
       "</div>"
      ],
      "text/plain": [
       "         id          created_at     open    high      low    price  \\\n",
       "776   91138 2021-09-12 03:42:30  3545.37  3610.0  3370.11  3432.88   \n",
       "1008  91139 2021-09-12 03:42:30  3432.88  3463.5  3324.32  3380.39   \n",
       "1757  91140 2021-09-12 03:42:30  3380.39  3492.0  3350.00  3445.00   \n",
       "2732  91141 2021-09-12 03:42:30  3445.00  3460.0  3255.50  3302.06   \n",
       "3704  91142 2021-09-12 03:42:30  3302.06  3335.0  3177.00  3224.17   \n",
       "\n",
       "            volume     amount    symbol exchange      timestamp       date  \n",
       "776   1.306914e+08  38070.472  btc-usdt  binance  1544400000000 2018-12-10  \n",
       "1008  1.150706e+08  34040.626  btc-usdt  binance  1544486400000 2018-12-11  \n",
       "1757  1.078230e+08  31298.412  btc-usdt  binance  1544572800000 2018-12-12  \n",
       "2732  1.262094e+08  38221.426  btc-usdt  binance  1544659200000 2018-12-13  \n",
       "3704  1.335645e+08  41425.998  btc-usdt  binance  1544745600000 2018-12-14  "
      ]
     },
     "execution_count": 59,
     "metadata": {},
     "output_type": "execute_result"
    }
   ],
   "source": [
    "btc_binance_data.head()"
   ]
  },
  {
   "cell_type": "code",
   "execution_count": 60,
   "id": "c3410c31",
   "metadata": {},
   "outputs": [
    {
     "name": "stderr",
     "output_type": "stream",
     "text": [
      "No handles with labels found to put in legend.\n"
     ]
    },
    {
     "data": {
      "image/png": "[encoded data removed]",
      "text/plain": [
       "<Figure size 1440x720 with 1 Axes>"
      ]
     },
     "metadata": {
      "needs_background": "light"
     },
     "output_type": "display_data"
    }
   ],
   "source": [
    "plt.rcParams[\"figure.figsize\"] = (20,10)\n",
    "plt.figure()\n",
    "plt.plot(btc_binance_data['date'], btc_binance_data['price'])\n",
    "plt.title('Btc-usdt price fluctuation on Binance exchange', fontsize=14)     \n",
    "plt.legend()\n",
    "plt.show()"
   ]
  },
  {
   "cell_type": "code",
   "execution_count": 61,
   "id": "0a5832cd",
   "metadata": {},
   "outputs": [],
   "source": [
    "#Creating training and test data\n",
    "price_data = btc_binance_data.filter(['price'])"
   ]
  },
  {
   "cell_type": "code",
   "execution_count": 62,
   "id": "9d821e12",
   "metadata": {},
   "outputs": [
    {
     "data": {
      "text/html": [
       "<div>\n",
       "<style scoped>\n",
       "    .dataframe tbody tr th:only-of-type {\n",
       "        vertical-align: middle;\n",
       "    }\n",
       "\n",
       "    .dataframe tbody tr th {\n",
       "        vertical-align: top;\n",
       "    }\n",
       "\n",
       "    .dataframe thead th {\n",
       "        text-align: right;\n",
       "    }\n",
       "</style>\n",
       "<table border=\"1\" class=\"dataframe\">\n",
       "  <thead>\n",
       "    <tr style=\"text-align: right;\">\n",
       "      <th></th>\n",
       "      <th>price</th>\n",
       "    </tr>\n",
       "  </thead>\n",
       "  <tbody>\n",
       "    <tr>\n",
       "      <th>776</th>\n",
       "      <td>3432.88</td>\n",
       "    </tr>\n",
       "    <tr>\n",
       "      <th>1008</th>\n",
       "      <td>3380.39</td>\n",
       "    </tr>\n",
       "    <tr>\n",
       "      <th>1757</th>\n",
       "      <td>3445.00</td>\n",
       "    </tr>\n",
       "    <tr>\n",
       "      <th>2732</th>\n",
       "      <td>3302.06</td>\n",
       "    </tr>\n",
       "    <tr>\n",
       "      <th>3704</th>\n",
       "      <td>3224.17</td>\n",
       "    </tr>\n",
       "  </tbody>\n",
       "</table>\n",
       "</div>"
      ],
      "text/plain": [
       "        price\n",
       "776   3432.88\n",
       "1008  3380.39\n",
       "1757  3445.00\n",
       "2732  3302.06\n",
       "3704  3224.17"
      ]
     },
     "execution_count": 62,
     "metadata": {},
     "output_type": "execute_result"
    }
   ],
   "source": [
    "price_data.head()"
   ]
  },
  {
   "cell_type": "code",
   "execution_count": 63,
   "id": "bc66a630",
   "metadata": {},
   "outputs": [],
   "source": [
    "price_dataset = price_data.values"
   ]
  },
  {
   "cell_type": "code",
   "execution_count": 64,
   "id": "6df61895",
   "metadata": {},
   "outputs": [],
   "source": [
    "scaler = MinMaxScaler(feature_range=(0, 1))\n",
    "scaled_price_data = scaler.fit_transform(price_dataset)"
   ]
  },
  {
   "cell_type": "code",
   "execution_count": 65,
   "id": "1c738e08",
   "metadata": {},
   "outputs": [],
   "source": [
    "training_data_len = math.ceil(len(price_dataset) *.7)\n",
    "train_data = scaled_price_data[0:training_data_len  , : ]"
   ]
  },
  {
   "cell_type": "code",
   "execution_count": 66,
   "id": "186a1db3",
   "metadata": {},
   "outputs": [],
   "source": [
    "x_train_data=[]\n",
    "y_train_data =[]\n",
    "for i in range(60,len(train_data)):\n",
    "    x_train_data=list(x_train_data)\n",
    "    y_train_data=list(y_train_data)\n",
    "    x_train_data.append(train_data[i-60:i,0])\n",
    "    y_train_data.append(train_data[i,0])"
   ]
  },
  {
   "cell_type": "code",
   "execution_count": 67,
   "id": "4a60076c",
   "metadata": {},
   "outputs": [],
   "source": [
    "x_train_data1, y_train_data1 = np.array(x_train_data), np.array(y_train_data)"
   ]
  },
  {
   "cell_type": "code",
   "execution_count": 68,
   "id": "0a3acc2e",
   "metadata": {},
   "outputs": [],
   "source": [
    "x_train_data2 = np.reshape(x_train_data1, (x_train_data1.shape[0],x_train_data1.shape[1],1))"
   ]
  },
  {
   "cell_type": "code",
   "execution_count": 69,
   "id": "b77546f2",
   "metadata": {},
   "outputs": [],
   "source": [
    "#building LSTM model\n",
    "model = Sequential()\n",
    "model.add(LSTM(units=50, return_sequences=True,input_shape=(x_train_data2.shape[1],1)))\n",
    "model.add(LSTM(units=50, return_sequences=False))\n",
    "model.add(Dense(units=25))\n",
    "model.add(Dense(units=1))"
   ]
  },
  {
   "cell_type": "code",
   "execution_count": 70,
   "id": "08226724",
   "metadata": {},
   "outputs": [
    {
     "name": "stdout",
     "output_type": "stream",
     "text": [
      "646/646 [==============================] - 18s 25ms/step - loss: 3.1910e-04\n"
     ]
    },
    {
     "data": {
      "text/plain": [
       "<keras.callbacks.History at 0x7f5f10483f98>"
      ]
     },
     "execution_count": 70,
     "metadata": {},
     "output_type": "execute_result"
    }
   ],
   "source": [
    "model.compile(optimizer='adam', loss='mean_squared_error')\n",
    "model.fit(x_train_data2, y_train_data1, batch_size=1, epochs=1)"
   ]
  },
  {
   "cell_type": "code",
   "execution_count": 71,
   "id": "f7f11063",
   "metadata": {},
   "outputs": [],
   "source": [
    "#creating dataset for testing\n",
    "test_data = scaled_price_data[training_data_len - 60: , : ]\n",
    "x_test = []\n",
    "y_test =  price_dataset[training_data_len : , : ]\n",
    "for i in range(60,len(test_data)):\n",
    "    x_test.append(test_data[i-60:i,0])"
   ]
  },
  {
   "cell_type": "code",
   "execution_count": null,
   "id": "ce8fd2d7",
   "metadata": {},
   "outputs": [],
   "source": []
  },
  {
   "cell_type": "code",
   "execution_count": 72,
   "id": "a57ebef4",
   "metadata": {},
   "outputs": [],
   "source": [
    "x_test = np.array(x_test)\n",
    "x_test = np.reshape(x_test, (x_test.shape[0],x_test.shape[1],1))"
   ]
  },
  {
   "cell_type": "code",
   "execution_count": 73,
   "id": "fcf56c95",
   "metadata": {},
   "outputs": [],
   "source": [
    "predictions = model.predict(x_test)\n",
    "predictions = scaler.inverse_transform(predictions)"
   ]
  },
  {
   "cell_type": "code",
   "execution_count": 74,
   "id": "15b19c23",
   "metadata": {},
   "outputs": [
    {
     "name": "stdout",
     "output_type": "stream",
     "text": [
      "3790.4098538349185\n"
     ]
    }
   ],
   "source": [
    "rmse=np.sqrt(np.mean(((predictions- y_test)**2)))\n",
    "print(rmse)"
   ]
  },
  {
   "cell_type": "code",
   "execution_count": 84,
   "id": "69483595",
   "metadata": {},
   "outputs": [
    {
     "name": "stderr",
     "output_type": "stream",
     "text": [
      "/home/ec2-user/anaconda3/envs/python3/lib/python3.6/site-packages/ipykernel/__main__.py:5: SettingWithCopyWarning: \n",
      "A value is trying to be set on a copy of a slice from a DataFrame.\n",
      "Try using .loc[row_indexer,col_indexer] = value instead\n",
      "\n",
      "See the caveats in the documentation: https://pandas.pydata.org/pandas-docs/stable/user_guide/indexing.html#returning-a-view-versus-a-copy\n"
     ]
    },
    {
     "data": {
      "image/png": "[encoded data removed]",
      "text/plain": [
       "<Figure size 1440x720 with 1 Axes>"
      ]
     },
     "metadata": {
      "needs_background": "light"
     },
     "output_type": "display_data"
    }
   ],
   "source": [
    "#plotting the prediction\n",
    "train = btc_binance_data[:training_data_len]\n",
    "valid = btc_binance_data[training_data_len:]\n",
    " \n",
    "valid['Predictions'] = predictions\n",
    " \n",
    "plt.title('LSTM Model')\n",
    "plt.xlabel('Date')\n",
    "plt.ylabel('Price')\n",
    " \n",
    "plt.plot(train['price'])\n",
    "plt.plot(valid[['price', 'Predictions']])\n",
    " \n",
    "plt.legend(['Train', 'Test', 'Predictions'], loc='lower right')\n",
    " \n",
    "plt.show()"
   ]
  },
  {
   "cell_type": "markdown",
   "id": "df472aa8",
   "metadata": {},
   "source": [
    "## Conclusion\n",
    "\n",
    "### As observed through the analysis, binance is observed to be the busiest exchnage among all.\n",
    "### BTC-USDT is the most traded coin by volume.\n",
    "### A spike in the volume of all the top 10 coins can be observed during May 2021.\n",
    "### The coin with highest liquidity was obsrved to be doge-usdt.\n",
    "### The prediction done by our LSTM model is accurate. "
   ]
  },
  {
   "cell_type": "markdown",
   "id": "61185a9e",
   "metadata": {},
   "source": [
    "# following section creates a html report"
   ]
  },
  {
   "cell_type": "code",
   "execution_count": 86,
   "id": "8ac8a75c",
   "metadata": {},
   "outputs": [],
   "source": [
    "import jinja2\n",
    "\n",
    "env = jinja2.Environment(loader=jinja2.FileSystemLoader(searchpath=''))\n",
    "template = env.get_template('template.html')\n",
    "\n",
    "def color_negative_red(val):\n",
    "    color = 'red' if str(val) < '0' else 'black'\n",
    "    return f'color: {color}'\n",
    "\n",
    "def color(val):\n",
    "    color = 'black'\n",
    "    return f'color: {color}'\n",
    "\n",
    "styler = data_nonzero_volume_notnull.head(5).style.applymap(color)\n",
    "html = template.render(my_table=styler.render())\n",
    "with open('report.html', 'w') as f:\n",
    "    f.write(html)"
   ]
  }
 ],
 "metadata": {
  "kernelspec": {
   "display_name": "conda_python3",
   "language": "python",
   "name": "conda_python3"
  },
  "language_info": {
   "codemirror_mode": {
    "name": "ipython",
    "version": 3
   },
   "file_extension": ".py",
   "mimetype": "text/x-python",
   "name": "python",
   "nbconvert_exporter": "python",
   "pygments_lexer": "ipython3",
   "version": "3.6.13"
  }
 },
 "nbformat": 4,
 "nbformat_minor": 5
}
